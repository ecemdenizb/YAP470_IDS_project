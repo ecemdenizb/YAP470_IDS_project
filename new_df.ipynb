{
 "cells": [
  {
   "cell_type": "code",
   "execution_count": 1,
   "id": "32fb8f11-ba5d-4677-9165-d14cedea4840",
   "metadata": {},
   "outputs": [],
   "source": [
    "#import the modules\n",
    "import os\n",
    "import pandas as pd\n",
    "import numpy as np\n",
    "\n",
    "#read the path\n"
   ]
  },
  {
   "cell_type": "code",
   "execution_count": 2,
   "id": "3d17129f-d901-4e74-8bc9-84d230fecb9d",
   "metadata": {},
   "outputs": [],
   "source": [
    "pd.set_option(\"display.max_rows\", None,\n",
    "             \"display.max_columns\", None)"
   ]
  },
  {
   "cell_type": "code",
   "execution_count": 3,
   "id": "5f4d2098-0f4d-44ee-88e4-4b0227839da1",
   "metadata": {},
   "outputs": [],
   "source": [
    "def process(ds, dt_list):\n",
    "        dummy_in=pd.read_csv(ds, dtype=dt_list)\n",
    "        dummy_in.replace([np.inf, -np.inf], np.nan, inplace=True)\n",
    "        dummy_in.dropna(axis = 'index', inplace=True)\n",
    "        dummy_in=dummy_in.sample(n=150000, random_state=12345).reset_index()\n",
    "        return dummy_in  "
   ]
  },
  {
   "cell_type": "code",
   "execution_count": 4,
   "id": "9f63a6a7-710f-44ab-b5fc-da06e72cdc55",
   "metadata": {},
   "outputs": [
    {
     "data": {
      "text/plain": [
       "['.DS_Store',\n",
       " '02-14-2018.csv',\n",
       " '02-15-2018.csv',\n",
       " '02-20-2018.csv',\n",
       " '02-21-2018.csv',\n",
       " '03-02-2018.csv',\n",
       " '02-23-2018.csv',\n",
       " '02-22-2018.csv']"
      ]
     },
     "execution_count": 4,
     "metadata": {},
     "output_type": "execute_result"
    }
   ],
   "source": [
    "file_path = \"/Users/ecemdenizbabaoglan/Downloads/archive\"\n",
    "#list all the files from the directory\n",
    "file_list = os.listdir(file_path)\n",
    "file_list"
   ]
  },
  {
   "cell_type": "code",
   "execution_count": 5,
   "id": "234d5592-2c92-4892-b624-aaa86f9e6918",
   "metadata": {},
   "outputs": [],
   "source": [
    "#df_concat = pd.concat([pd.read_csv(file_path+\"/\"+f, low_memory=False) for f in file_list ], ignore_index=True)\n",
    "#df_concat.head()"
   ]
  },
  {
   "cell_type": "code",
   "execution_count": 6,
   "id": "82932ba1-d3d4-4351-ab7e-3d0a7b9245af",
   "metadata": {},
   "outputs": [],
   "source": [
    "#i=0;"
   ]
  },
  {
   "cell_type": "code",
   "execution_count": 7,
   "id": "c43ba45f-5786-4c7c-ab25-8ad5cbb21d74",
   "metadata": {},
   "outputs": [],
   "source": [
    "#new_dataset=recursively_append(file_path, file_list, i, dummy_in=None)"
   ]
  },
  {
   "cell_type": "code",
   "execution_count": 8,
   "id": "505026f3-717b-44bc-8933-afed3a895b92",
   "metadata": {},
   "outputs": [],
   "source": [
    "dt=pd.read_csv(file_path+\"/02-14-2018.csv\")"
   ]
  },
  {
   "cell_type": "code",
   "execution_count": 9,
   "id": "79c28a65-b41b-4fd8-9297-a22e48447ac3",
   "metadata": {},
   "outputs": [],
   "source": [
    "dt_list=dt.dtypes"
   ]
  },
  {
   "cell_type": "code",
   "execution_count": 10,
   "id": "8aa2a0c7-952d-41ca-8de8-e51155ba10e0",
   "metadata": {},
   "outputs": [
    {
     "name": "stdout",
     "output_type": "stream",
     "text": [
      "Dst Port               int64\n",
      "Protocol               int64\n",
      "Timestamp             object\n",
      "Flow Duration          int64\n",
      "Tot Fwd Pkts           int64\n",
      "Tot Bwd Pkts           int64\n",
      "TotLen Fwd Pkts        int64\n",
      "TotLen Bwd Pkts        int64\n",
      "Fwd Pkt Len Max        int64\n",
      "Fwd Pkt Len Min        int64\n",
      "Fwd Pkt Len Mean     float64\n",
      "Fwd Pkt Len Std      float64\n",
      "Bwd Pkt Len Max        int64\n",
      "Bwd Pkt Len Min        int64\n",
      "Bwd Pkt Len Mean     float64\n",
      "Bwd Pkt Len Std      float64\n",
      "Flow Byts/s          float64\n",
      "Flow Pkts/s          float64\n",
      "Flow IAT Mean        float64\n",
      "Flow IAT Std         float64\n",
      "Flow IAT Max           int64\n",
      "Flow IAT Min           int64\n",
      "Fwd IAT Tot            int64\n",
      "Fwd IAT Mean         float64\n",
      "Fwd IAT Std          float64\n",
      "Fwd IAT Max            int64\n",
      "Fwd IAT Min            int64\n",
      "Bwd IAT Tot            int64\n",
      "Bwd IAT Mean         float64\n",
      "Bwd IAT Std          float64\n",
      "Bwd IAT Max            int64\n",
      "Bwd IAT Min            int64\n",
      "Fwd PSH Flags          int64\n",
      "Bwd PSH Flags          int64\n",
      "Fwd URG Flags          int64\n",
      "Bwd URG Flags          int64\n",
      "Fwd Header Len         int64\n",
      "Bwd Header Len         int64\n",
      "Fwd Pkts/s           float64\n",
      "Bwd Pkts/s           float64\n",
      "Pkt Len Min            int64\n",
      "Pkt Len Max            int64\n",
      "Pkt Len Mean         float64\n",
      "Pkt Len Std          float64\n",
      "Pkt Len Var          float64\n",
      "FIN Flag Cnt           int64\n",
      "SYN Flag Cnt           int64\n",
      "RST Flag Cnt           int64\n",
      "PSH Flag Cnt           int64\n",
      "ACK Flag Cnt           int64\n",
      "URG Flag Cnt           int64\n",
      "CWE Flag Count         int64\n",
      "ECE Flag Cnt           int64\n",
      "Down/Up Ratio          int64\n",
      "Pkt Size Avg         float64\n",
      "Fwd Seg Size Avg     float64\n",
      "Bwd Seg Size Avg     float64\n",
      "Fwd Byts/b Avg         int64\n",
      "Fwd Pkts/b Avg         int64\n",
      "Fwd Blk Rate Avg       int64\n",
      "Bwd Byts/b Avg         int64\n",
      "Bwd Pkts/b Avg         int64\n",
      "Bwd Blk Rate Avg       int64\n",
      "Subflow Fwd Pkts       int64\n",
      "Subflow Fwd Byts       int64\n",
      "Subflow Bwd Pkts       int64\n",
      "Subflow Bwd Byts       int64\n",
      "Init Fwd Win Byts      int64\n",
      "Init Bwd Win Byts      int64\n",
      "Fwd Act Data Pkts      int64\n",
      "Fwd Seg Size Min       int64\n",
      "Active Mean          float64\n",
      "Active Std           float64\n",
      "Active Max             int64\n",
      "Active Min             int64\n",
      "Idle Mean            float64\n",
      "Idle Std             float64\n",
      "Idle Max               int64\n",
      "Idle Min               int64\n",
      "Label                 object\n",
      "dtype: object\n"
     ]
    }
   ],
   "source": [
    "print(dt_list)"
   ]
  },
  {
   "cell_type": "code",
   "execution_count": 11,
   "id": "a14330d9-1c60-45c0-8260-a362949b603a",
   "metadata": {},
   "outputs": [],
   "source": [
    "#for key, value in dt_list.items():\n",
    " #   if dt_list[key] == \"int64\":\n",
    " #       dt_list[key]= \"float64\"\n",
    " #   else:\n",
    " #       continue\n",
    "    \n",
    "            "
   ]
  },
  {
   "cell_type": "code",
   "execution_count": 12,
   "id": "f8ef2071-431c-4dce-88f8-d18d4fb4bcb3",
   "metadata": {},
   "outputs": [],
   "source": [
    "liste=dt_list.to_dict()"
   ]
  },
  {
   "cell_type": "code",
   "execution_count": 13,
   "id": "41c2c351-e739-4c4b-a61a-3b7f03648214",
   "metadata": {},
   "outputs": [
    {
     "name": "stdout",
     "output_type": "stream",
     "text": [
      "{'Dst Port': dtype('int64'), 'Protocol': dtype('int64'), 'Timestamp': dtype('O'), 'Flow Duration': dtype('int64'), 'Tot Fwd Pkts': dtype('int64'), 'Tot Bwd Pkts': dtype('int64'), 'TotLen Fwd Pkts': dtype('int64'), 'TotLen Bwd Pkts': dtype('int64'), 'Fwd Pkt Len Max': dtype('int64'), 'Fwd Pkt Len Min': dtype('int64'), 'Fwd Pkt Len Mean': dtype('float64'), 'Fwd Pkt Len Std': dtype('float64'), 'Bwd Pkt Len Max': dtype('int64'), 'Bwd Pkt Len Min': dtype('int64'), 'Bwd Pkt Len Mean': dtype('float64'), 'Bwd Pkt Len Std': dtype('float64'), 'Flow Byts/s': dtype('float64'), 'Flow Pkts/s': dtype('float64'), 'Flow IAT Mean': dtype('float64'), 'Flow IAT Std': dtype('float64'), 'Flow IAT Max': dtype('int64'), 'Flow IAT Min': dtype('int64'), 'Fwd IAT Tot': dtype('int64'), 'Fwd IAT Mean': dtype('float64'), 'Fwd IAT Std': dtype('float64'), 'Fwd IAT Max': dtype('int64'), 'Fwd IAT Min': dtype('int64'), 'Bwd IAT Tot': dtype('int64'), 'Bwd IAT Mean': dtype('float64'), 'Bwd IAT Std': dtype('float64'), 'Bwd IAT Max': dtype('int64'), 'Bwd IAT Min': dtype('int64'), 'Fwd PSH Flags': dtype('int64'), 'Bwd PSH Flags': dtype('int64'), 'Fwd URG Flags': dtype('int64'), 'Bwd URG Flags': dtype('int64'), 'Fwd Header Len': dtype('int64'), 'Bwd Header Len': dtype('int64'), 'Fwd Pkts/s': dtype('float64'), 'Bwd Pkts/s': dtype('float64'), 'Pkt Len Min': dtype('int64'), 'Pkt Len Max': dtype('int64'), 'Pkt Len Mean': dtype('float64'), 'Pkt Len Std': dtype('float64'), 'Pkt Len Var': dtype('float64'), 'FIN Flag Cnt': dtype('int64'), 'SYN Flag Cnt': dtype('int64'), 'RST Flag Cnt': dtype('int64'), 'PSH Flag Cnt': dtype('int64'), 'ACK Flag Cnt': dtype('int64'), 'URG Flag Cnt': dtype('int64'), 'CWE Flag Count': dtype('int64'), 'ECE Flag Cnt': dtype('int64'), 'Down/Up Ratio': dtype('int64'), 'Pkt Size Avg': dtype('float64'), 'Fwd Seg Size Avg': dtype('float64'), 'Bwd Seg Size Avg': dtype('float64'), 'Fwd Byts/b Avg': dtype('int64'), 'Fwd Pkts/b Avg': dtype('int64'), 'Fwd Blk Rate Avg': dtype('int64'), 'Bwd Byts/b Avg': dtype('int64'), 'Bwd Pkts/b Avg': dtype('int64'), 'Bwd Blk Rate Avg': dtype('int64'), 'Subflow Fwd Pkts': dtype('int64'), 'Subflow Fwd Byts': dtype('int64'), 'Subflow Bwd Pkts': dtype('int64'), 'Subflow Bwd Byts': dtype('int64'), 'Init Fwd Win Byts': dtype('int64'), 'Init Bwd Win Byts': dtype('int64'), 'Fwd Act Data Pkts': dtype('int64'), 'Fwd Seg Size Min': dtype('int64'), 'Active Mean': dtype('float64'), 'Active Std': dtype('float64'), 'Active Max': dtype('int64'), 'Active Min': dtype('int64'), 'Idle Mean': dtype('float64'), 'Idle Std': dtype('float64'), 'Idle Max': dtype('int64'), 'Idle Min': dtype('int64'), 'Label': dtype('O')}\n"
     ]
    }
   ],
   "source": [
    "print(liste)"
   ]
  },
  {
   "cell_type": "code",
   "execution_count": 14,
   "id": "85e7c3d8-533a-4227-b3e0-1597b3c4ad49",
   "metadata": {},
   "outputs": [],
   "source": [
    "new_df=pd.DataFrame()"
   ]
  },
  {
   "cell_type": "code",
   "execution_count": 15,
   "id": "16f7e2ac-0ecc-43d3-9716-343e0347fc5d",
   "metadata": {},
   "outputs": [
    {
     "name": "stdout",
     "output_type": "stream",
     "text": [
      "02-14-2018.csv bitti\n",
      "02-15-2018.csv bitti\n",
      "02-20-2018.csv bitti\n",
      "02-21-2018.csv bitti\n",
      "03-02-2018.csv bitti\n",
      "02-23-2018.csv bitti\n",
      "02-22-2018.csv bitti\n"
     ]
    }
   ],
   "source": [
    "for f in file_list:\n",
    "    if '.csv' in f:\n",
    "        path= file_path+\"/\"+f\n",
    "        ds=process(path, liste)\n",
    "        new_df=pd.concat([new_df,ds], ignore_index=True)\n",
    "        print(f\"{f} bitti\")\n",
    "    else:\n",
    "        continue"
   ]
  },
  {
   "cell_type": "code",
   "execution_count": 16,
   "id": "5ca9d027-23fc-451f-9601-1415e35b3c1a",
   "metadata": {},
   "outputs": [
    {
     "name": "stdout",
     "output_type": "stream",
     "text": [
      "1050000\n"
     ]
    }
   ],
   "source": [
    "print(len(new_df))"
   ]
  },
  {
   "cell_type": "code",
   "execution_count": 17,
   "id": "479af30c-16c9-4eae-95f8-603247538a8e",
   "metadata": {},
   "outputs": [
    {
     "data": {
      "text/plain": [
       "Benign                    837030\n",
       "DDOS attack-HOIC           97811\n",
       "Bot                        41017\n",
       "FTP-BruteForce             27814\n",
       "SSH-Bruteforce             27123\n",
       "DDoS attacks-LOIC-HTTP     11123\n",
       "DoS attacks-GoldenEye       6104\n",
       "DoS attacks-Slowloris       1555\n",
       "DDOS attack-LOIC-UDP         259\n",
       "Brute Force -Web             104\n",
       "Brute Force -XSS              42\n",
       "SQL Injection                 18\n",
       "Name: Label, dtype: int64"
      ]
     },
     "execution_count": 17,
     "metadata": {},
     "output_type": "execute_result"
    }
   ],
   "source": [
    "new_df['Label'].value_counts()"
   ]
  },
  {
   "cell_type": "code",
   "execution_count": 19,
   "id": "692712c1-9c5b-4bb9-be4f-9df89d440520",
   "metadata": {},
   "outputs": [],
   "source": [
    "new_df.to_csv('new_df_v2.csv')"
   ]
  },
  {
   "cell_type": "code",
   "execution_count": null,
   "id": "c9896095-589c-481c-b38c-3da2cf7ecc33",
   "metadata": {},
   "outputs": [],
   "source": []
  },
  {
   "cell_type": "code",
   "execution_count": null,
   "id": "2492341a-dac8-4db2-b76d-9194f1d2a65c",
   "metadata": {},
   "outputs": [],
   "source": []
  },
  {
   "cell_type": "code",
   "execution_count": null,
   "id": "2c8fce64-7dd6-4161-8e2b-d09dc73003cb",
   "metadata": {},
   "outputs": [],
   "source": []
  },
  {
   "cell_type": "code",
   "execution_count": null,
   "id": "7622e0cb-79cf-4622-a4c0-a9c6c46388c6",
   "metadata": {},
   "outputs": [],
   "source": []
  }
 ],
 "metadata": {
  "kernelspec": {
   "display_name": "Python 3 (ipykernel)",
   "language": "python",
   "name": "python3"
  },
  "language_info": {
   "codemirror_mode": {
    "name": "ipython",
    "version": 3
   },
   "file_extension": ".py",
   "mimetype": "text/x-python",
   "name": "python",
   "nbconvert_exporter": "python",
   "pygments_lexer": "ipython3",
   "version": "3.9.13"
  }
 },
 "nbformat": 4,
 "nbformat_minor": 5
}
