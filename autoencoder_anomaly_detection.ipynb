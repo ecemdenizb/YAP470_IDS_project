{
 "cells": [
  {
   "cell_type": "code",
   "execution_count": 1,
   "id": "78a2837a-6d47-4ffd-9dcc-68c3bd91fd68",
   "metadata": {},
   "outputs": [],
   "source": [
    "import pandas as pd\n",
    "import numpy as np"
   ]
  },
  {
   "cell_type": "code",
   "execution_count": 2,
   "id": "47ac4e32-ab8a-477a-b45d-40174c888c0a",
   "metadata": {},
   "outputs": [
    {
     "name": "stdout",
     "output_type": "stream",
     "text": [
      "Requirement already satisfied: matplotlib in /Users/ecemdenizbabaoglan/opt/anaconda3/lib/python3.9/site-packages (3.5.1)\n",
      "Requirement already satisfied: fonttools>=4.22.0 in /Users/ecemdenizbabaoglan/opt/anaconda3/lib/python3.9/site-packages (from matplotlib) (4.25.0)\n",
      "Requirement already satisfied: python-dateutil>=2.7 in /Users/ecemdenizbabaoglan/opt/anaconda3/lib/python3.9/site-packages (from matplotlib) (2.8.2)\n",
      "Requirement already satisfied: kiwisolver>=1.0.1 in /Users/ecemdenizbabaoglan/opt/anaconda3/lib/python3.9/site-packages (from matplotlib) (1.4.2)\n",
      "Requirement already satisfied: pillow>=6.2.0 in /Users/ecemdenizbabaoglan/opt/anaconda3/lib/python3.9/site-packages (from matplotlib) (9.0.1)\n",
      "Requirement already satisfied: numpy>=1.17 in /Users/ecemdenizbabaoglan/opt/anaconda3/lib/python3.9/site-packages (from matplotlib) (1.21.5)\n",
      "Requirement already satisfied: packaging>=20.0 in /Users/ecemdenizbabaoglan/opt/anaconda3/lib/python3.9/site-packages (from matplotlib) (21.3)\n",
      "Requirement already satisfied: cycler>=0.10 in /Users/ecemdenizbabaoglan/opt/anaconda3/lib/python3.9/site-packages (from matplotlib) (0.11.0)\n",
      "Requirement already satisfied: pyparsing>=2.2.1 in /Users/ecemdenizbabaoglan/opt/anaconda3/lib/python3.9/site-packages (from matplotlib) (3.0.4)\n",
      "Requirement already satisfied: six>=1.5 in /Users/ecemdenizbabaoglan/opt/anaconda3/lib/python3.9/site-packages (from python-dateutil>=2.7->matplotlib) (1.16.0)\n"
     ]
    }
   ],
   "source": [
    "!pip install matplotlib"
   ]
  },
  {
   "cell_type": "code",
   "execution_count": 3,
   "id": "c09b92e1-c861-4f32-a657-dde670e63ff7",
   "metadata": {},
   "outputs": [],
   "source": [
    "import tensorflow as tf\n",
    "\n",
    "from sklearn.metrics import accuracy_score, precision_score, recall_score\n",
    "from sklearn.model_selection import train_test_split\n",
    "from tensorflow.keras import layers, losses\n",
    "from tensorflow.keras.models import Model"
   ]
  },
  {
   "cell_type": "code",
   "execution_count": 4,
   "id": "4fe1bb59-e7d9-4ba4-8850-80f56ddf1c53",
   "metadata": {},
   "outputs": [],
   "source": [
    "from sklearn import preprocessing"
   ]
  },
  {
   "cell_type": "code",
   "execution_count": 5,
   "id": "c3e452fc-03ef-49f2-af0a-9b66dc7394c9",
   "metadata": {},
   "outputs": [],
   "source": [
    "def labelencoder(ds):\n",
    "    encoded_ds=ds.copy()\n",
    "    le = preprocessing.LabelEncoder()\n",
    "    for col in encoded_ds.select_dtypes(include=['object']).columns:\n",
    "        encoded_ds[col]=le.fit_transform(encoded_ds[col])\n",
    "    \n",
    "    return encoded_ds"
   ]
  },
  {
   "cell_type": "code",
   "execution_count": 6,
   "id": "ca1f6bb8-e7c2-4582-8bee-ea5b3855e39b",
   "metadata": {},
   "outputs": [],
   "source": [
    "def encoding_for_anomalous(ds):\n",
    "    encoded_ds=ds.copy()\n",
    "    for i in range(len(ds)):\n",
    "        if encoded_ds.iloc[i]=='BENIGN':\n",
    "            encoded_ds.iloc[i]= 0\n",
    "        else:\n",
    "            encoded_ds.iloc[i]= 1\n",
    "            \n",
    "    return encoded_ds  "
   ]
  },
  {
   "cell_type": "code",
   "execution_count": 7,
   "id": "46971ae1-106f-44ab-aa0d-0a1d9b27d376",
   "metadata": {},
   "outputs": [],
   "source": [
    "def scaling(ds):\n",
    "    scaler=preprocessing.StandardScaler()\n",
    "    scaled_ds=scaler.fit_transform(ds)\n",
    "    return scaled_ds"
   ]
  },
  {
   "cell_type": "code",
   "execution_count": 8,
   "id": "ce37629b-1678-4e1d-a908-d638f00b0652",
   "metadata": {},
   "outputs": [],
   "source": [
    "def drop_infs(ds):\n",
    "    ds.replace([np.inf, -np.inf], np.nan, inplace=True)\n",
    "    ds.dropna(how='any', inplace=True)\n",
    "    return ds"
   ]
  },
  {
   "cell_type": "code",
   "execution_count": 9,
   "id": "4ae28aa2-f5c5-4515-bf23-c18e81606352",
   "metadata": {},
   "outputs": [],
   "source": [
    "pd.set_option(\"display.max_rows\", None,\n",
    "             \"display.max_columns\", None)"
   ]
  },
  {
   "cell_type": "code",
   "execution_count": 10,
   "id": "8344f884-1296-4fde-bba1-22916e8467ee",
   "metadata": {},
   "outputs": [],
   "source": [
    "PATH=\"/Users/ecemdenizbabaoglan/Desktop/TOBBETU/yap470/MachineLearningCVE/Monday-WorkingHours.pcap_ISCX.csv\""
   ]
  },
  {
   "cell_type": "code",
   "execution_count": 11,
   "id": "ff36af62-32d0-4c49-b398-72338f8aa04b",
   "metadata": {},
   "outputs": [],
   "source": [
    "normal_ds=pd.read_csv(PATH) #Bu veri setini tamamen train için kullanıcaz"
   ]
  },
  {
   "cell_type": "code",
   "execution_count": 12,
   "id": "bed238c3-53c2-470e-a6d1-afb2868ed410",
   "metadata": {},
   "outputs": [],
   "source": [
    "normal_ds=drop_infs(normal_ds)\n",
    "normal_ds=labelencoder(normal_ds)"
   ]
  },
  {
   "cell_type": "code",
   "execution_count": 13,
   "id": "e1283ecc-48fe-4a26-9751-ec38543c5789",
   "metadata": {},
   "outputs": [],
   "source": [
    "normal_y_train=normal_ds[' Label']"
   ]
  },
  {
   "cell_type": "code",
   "execution_count": 14,
   "id": "74a06271-5ecf-4723-849d-b41f62e583c1",
   "metadata": {},
   "outputs": [],
   "source": [
    "normal_x_train=normal_ds.drop(' Label', axis=1) #Label'ı yani y'yi dropluyoruz"
   ]
  },
  {
   "cell_type": "code",
   "execution_count": 15,
   "id": "b67999dd-4066-4a6c-96b0-14aa30791e2f",
   "metadata": {},
   "outputs": [],
   "source": [
    "normal_x_train=scaling(normal_x_train)"
   ]
  },
  {
   "cell_type": "code",
   "execution_count": null,
   "id": "bd7a93ec-716d-417f-a480-cc18f2f5f76f",
   "metadata": {},
   "outputs": [],
   "source": []
  },
  {
   "cell_type": "code",
   "execution_count": 16,
   "id": "0d8bd5fd-915b-4734-9b33-7765037e2827",
   "metadata": {},
   "outputs": [],
   "source": [
    "test_path=\"/Users/ecemdenizbabaoglan/Desktop/TOBBETU/yap470/MachineLearningCVE/Friday-WorkingHours-Afternoon-DDos.pcap_ISCX.csv\""
   ]
  },
  {
   "cell_type": "code",
   "execution_count": 17,
   "id": "b32a4949-3b15-4ffe-b022-f4626d5abf50",
   "metadata": {},
   "outputs": [],
   "source": [
    "test_ds=pd.read_csv(test_path)"
   ]
  },
  {
   "cell_type": "code",
   "execution_count": 18,
   "id": "01eade00-6fe4-4084-a385-105948695833",
   "metadata": {},
   "outputs": [],
   "source": [
    "test_ds=drop_infs(test_ds)"
   ]
  },
  {
   "cell_type": "code",
   "execution_count": 19,
   "id": "4e0a3132-f19c-4da0-a4f1-3f1f4081b057",
   "metadata": {},
   "outputs": [],
   "source": [
    "y_test=test_ds[' Label']"
   ]
  },
  {
   "cell_type": "code",
   "execution_count": 20,
   "id": "49f19a6c-a590-49e5-9894-f700fe12a806",
   "metadata": {},
   "outputs": [],
   "source": [
    "x_test=test_ds.drop(' Label', axis=1)"
   ]
  },
  {
   "cell_type": "code",
   "execution_count": 21,
   "id": "a7895857-0ee5-48b7-87ef-48a0ab3dab22",
   "metadata": {},
   "outputs": [],
   "source": [
    "y_test=encoding_for_anomalous(y_test)\n",
    "x_test=labelencoder(x_test)\n",
    "x_test=scaling(x_test)"
   ]
  },
  {
   "cell_type": "code",
   "execution_count": 22,
   "id": "a65c90e4-829c-4750-b679-d509d634aea8",
   "metadata": {},
   "outputs": [
    {
     "data": {
      "text/plain": [
       "1    128025\n",
       "0     97686\n",
       "Name:  Label, dtype: int64"
      ]
     },
     "execution_count": 22,
     "metadata": {},
     "output_type": "execute_result"
    }
   ],
   "source": [
    "y_test.value_counts()"
   ]
  },
  {
   "cell_type": "code",
   "execution_count": 23,
   "id": "a387883e-120c-421f-b77e-ce8340f3eba9",
   "metadata": {},
   "outputs": [],
   "source": [
    "#train.head()"
   ]
  },
  {
   "cell_type": "code",
   "execution_count": 24,
   "id": "181f1f53-4166-461b-942f-98c85d5504e5",
   "metadata": {},
   "outputs": [],
   "source": [
    "#normal_ds.info()"
   ]
  },
  {
   "cell_type": "code",
   "execution_count": 25,
   "id": "3e23a364-52a4-4965-81f7-b7e3b3d915b0",
   "metadata": {},
   "outputs": [],
   "source": [
    "#normal_ds.describe(include='all')"
   ]
  },
  {
   "cell_type": "code",
   "execution_count": 26,
   "id": "54baa35d-c0ae-4133-b195-665d65ce08ff",
   "metadata": {},
   "outputs": [],
   "source": [
    "normal_x_train = np.asarray(normal_x_train).astype(np.float32)\n",
    "x_test = np.asarray(x_test).astype(np.float32)\n",
    "\n",
    "normal_x_train = tf.cast(normal_x_train, tf.float32)\n",
    "x_test = tf.cast(x_test, tf.float32)"
   ]
  },
  {
   "cell_type": "code",
   "execution_count": 27,
   "id": "6b7564a1-f48a-426f-9487-e0dd03a30f2d",
   "metadata": {},
   "outputs": [],
   "source": [
    "input = tf.keras.layers.Input(shape=(78,))"
   ]
  },
  {
   "cell_type": "code",
   "execution_count": 28,
   "id": "4b992842-81c6-47d7-94b7-f5a014ad073a",
   "metadata": {},
   "outputs": [],
   "source": [
    "encoder = tf.keras.Sequential([\n",
    "    layers.Dense(32, activation='relu'),\n",
    "    layers.Dense(16, activation='relu'),\n",
    "    layers.Dense(8, activation='relu')])(input)\n"
   ]
  },
  {
   "cell_type": "code",
   "execution_count": 29,
   "id": "3e600fca-bca9-4ef9-8c1e-2d6a06648f38",
   "metadata": {},
   "outputs": [],
   "source": [
    "decoder = tf.keras.Sequential([\n",
    "    layers.Dense(16, activation='relu'),\n",
    "    layers.Dense(32, activation='relu'),\n",
    "    layers.Dense(78, activation='sigmoid')])(encoder)"
   ]
  },
  {
   "cell_type": "code",
   "execution_count": 30,
   "id": "47c13658-c0d4-4f58-b0d9-07610020d4a8",
   "metadata": {},
   "outputs": [],
   "source": [
    "autoencoder = tf.keras.Model(inputs=input, outputs=decoder)\n"
   ]
  },
  {
   "cell_type": "code",
   "execution_count": 31,
   "id": "ad636a5a-593a-44d8-b07d-d5e390794a24",
   "metadata": {},
   "outputs": [],
   "source": [
    "autoencoder.compile(optimizer='adam', loss='mae')\n"
   ]
  },
  {
   "cell_type": "code",
   "execution_count": 32,
   "id": "fa0bb69a-574b-403d-abbe-f9b2352eeb81",
   "metadata": {},
   "outputs": [
    {
     "name": "stdout",
     "output_type": "stream",
     "text": [
      "Epoch 1/10\n",
      "   1/8274 [..............................] - ETA: 22:15 - loss: 0.7229"
     ]
    },
    {
     "name": "stderr",
     "output_type": "stream",
     "text": [
      "2022-12-07 16:03:19.484952: I tensorflow/compiler/mlir/mlir_graph_optimization_pass.cc:116] None of the MLIR optimization passes are enabled (registered 2)\n",
      "2022-12-07 16:03:19.485089: W tensorflow/core/platform/profile_utils/cpu_utils.cc:126] Failed to get CPU frequency: 0 Hz\n"
     ]
    },
    {
     "name": "stdout",
     "output_type": "stream",
     "text": [
      "8274/8274 [==============================] - 5s 572us/step - loss: 0.3163 - val_loss: 0.3769\n",
      "Epoch 2/10\n",
      "8274/8274 [==============================] - 4s 541us/step - loss: 0.2863 - val_loss: 0.3704\n",
      "Epoch 3/10\n",
      "8274/8274 [==============================] - 4s 536us/step - loss: 0.2836 - val_loss: 0.3673\n",
      "Epoch 4/10\n",
      "8274/8274 [==============================] - 4s 540us/step - loss: 0.2819 - val_loss: 0.3662\n",
      "Epoch 5/10\n",
      "8274/8274 [==============================] - 4s 544us/step - loss: 0.2822 - val_loss: 0.3659\n",
      "Epoch 6/10\n",
      "8274/8274 [==============================] - 4s 541us/step - loss: 0.2822 - val_loss: 0.3654\n",
      "Epoch 7/10\n",
      "8274/8274 [==============================] - 5s 565us/step - loss: 0.2809 - val_loss: 0.3631\n",
      "Epoch 8/10\n",
      "8274/8274 [==============================] - 5s 546us/step - loss: 0.2814 - val_loss: 0.3632\n",
      "Epoch 9/10\n",
      "8274/8274 [==============================] - 5s 549us/step - loss: 0.2807 - val_loss: 0.3629\n",
      "Epoch 10/10\n",
      "8274/8274 [==============================] - 4s 542us/step - loss: 0.2809 - val_loss: 0.3615\n"
     ]
    }
   ],
   "source": [
    "history = autoencoder.fit(normal_x_train, normal_x_train, \n",
    "          epochs=10, \n",
    "          batch_size=64,\n",
    "          validation_data=(x_test, x_test),\n",
    "          shuffle=True)"
   ]
  },
  {
   "cell_type": "code",
   "execution_count": 33,
   "id": "cfca2db7-67e4-441c-9c54-d78ea5e536e3",
   "metadata": {},
   "outputs": [],
   "source": [
    "#train_loss=history.history[\"loss\"]"
   ]
  },
  {
   "cell_type": "code",
   "execution_count": 34,
   "id": "d6cd211a-44bd-4853-b4ad-09066137ff3f",
   "metadata": {},
   "outputs": [],
   "source": [
    "reconstructions = autoencoder.predict(normal_x_train)\n",
    "train_loss = tf.keras.losses.mae(reconstructions, normal_x_train)"
   ]
  },
  {
   "cell_type": "code",
   "execution_count": 35,
   "id": "2cfb20a7-ae2a-4ec2-9833-bb585184366a",
   "metadata": {},
   "outputs": [
    {
     "name": "stdout",
     "output_type": "stream",
     "text": [
      "Threshold:  0.5025517\n"
     ]
    }
   ],
   "source": [
    "threshold = np.mean(train_loss) + np.std(train_loss)\n",
    "print(\"Threshold: \", threshold)"
   ]
  },
  {
   "cell_type": "code",
   "execution_count": 36,
   "id": "f2f004e5-d7c1-46f1-a7b5-fc9d9ad683d3",
   "metadata": {},
   "outputs": [],
   "source": [
    "def predict(model, data, threshold):\n",
    "  reconstructions = model(data)\n",
    "  loss = tf.keras.losses.mae(reconstructions, data)\n",
    "  return tf.math.less(loss, threshold)\n",
    "\n",
    "def print_stats(predictions, labels):\n",
    "  print(\"Accuracy = {}\".format(accuracy_score(labels, predictions)))\n",
    "  print(\"Precision = {}\".format(precision_score(labels, predictions)))\n",
    "  print(\"Recall = {}\".format(recall_score(labels, predictions)))"
   ]
  },
  {
   "cell_type": "code",
   "execution_count": 40,
   "id": "3c1a0301-c49d-4eab-b523-859247edbf02",
   "metadata": {},
   "outputs": [
    {
     "name": "stdout",
     "output_type": "stream",
     "text": [
      "Accuracy = 0.6332522562037296\n",
      "Precision = 0.6142806627601536\n",
      "Recall = 0.9498379222808045\n"
     ]
    }
   ],
   "source": [
    "preds = predict(autoencoder, x_test, threshold)\n",
    "print_stats(preds, y_test.astype(bool))"
   ]
  },
  {
   "cell_type": "code",
   "execution_count": null,
   "id": "cfcff308-169f-42a5-ad00-5b14984a5884",
   "metadata": {},
   "outputs": [],
   "source": []
  }
 ],
 "metadata": {
  "kernelspec": {
   "display_name": "pytf",
   "language": "python",
   "name": "pytf"
  },
  "language_info": {
   "codemirror_mode": {
    "name": "ipython",
    "version": 3
   },
   "file_extension": ".py",
   "mimetype": "text/x-python",
   "name": "python",
   "nbconvert_exporter": "python",
   "pygments_lexer": "ipython3",
   "version": "3.8.13"
  }
 },
 "nbformat": 4,
 "nbformat_minor": 5
}
