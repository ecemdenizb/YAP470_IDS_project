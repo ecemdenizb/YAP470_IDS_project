{
 "cells": [
  {
   "cell_type": "code",
   "execution_count": 32,
   "id": "258f9f37",
   "metadata": {},
   "outputs": [],
   "source": [
    "import numpy as np\n",
    "import pandas as pd\n",
    "from sklearn.model_selection import train_test_split\n",
    "import tensorflow as tf\n",
    "from tensorflow.keras import layers, losses\n",
    "from sklearn.metrics import classification_report\n",
    "from sklearn.svm import LinearSVC\n",
    "from sklearn.feature_selection import SelectFromModel"
   ]
  },
  {
   "cell_type": "code",
   "execution_count": 33,
   "id": "bf31bde1",
   "metadata": {},
   "outputs": [],
   "source": [
    "pd.set_option(\"display.max_rows\", None,\n",
    "             \"display.max_columns\", None)"
   ]
  },
  {
   "cell_type": "code",
   "execution_count": 34,
   "id": "65318ad7",
   "metadata": {},
   "outputs": [],
   "source": [
    "dataset = pd.read_csv(\"/Users/boramert/Desktop/Code/bil570proje/archive/dataset_scaled.csv\")"
   ]
  },
  {
   "cell_type": "code",
   "execution_count": 35,
   "id": "ced47390",
   "metadata": {},
   "outputs": [],
   "source": [
    "labels = dataset['Label']\n",
    "data = dataset.loc[:, dataset.columns != 'Label']"
   ]
  },
  {
   "cell_type": "code",
   "execution_count": 37,
   "id": "3c9a67e3",
   "metadata": {
    "scrolled": true
   },
   "outputs": [
    {
     "name": "stderr",
     "output_type": "stream",
     "text": [
      "/var/folders/yp/77nk0s9n13j86csgylsrrlph0000gn/T/ipykernel_1057/4164787005.py:1: SettingWithCopyWarning: \n",
      "A value is trying to be set on a copy of a slice from a DataFrame\n",
      "\n",
      "See the caveats in the documentation: https://pandas.pydata.org/pandas-docs/stable/user_guide/indexing.html#returning-a-view-versus-a-copy\n",
      "  labels.loc[labels != 0] = 1\n"
     ]
    }
   ],
   "source": [
    "labels.loc[labels != 0] = 1"
   ]
  },
  {
   "cell_type": "code",
   "execution_count": 38,
   "id": "7f5413b5",
   "metadata": {},
   "outputs": [
    {
     "data": {
      "text/plain": [
       "0.0    660007\n",
       "1.0    384744\n",
       "Name: Label, dtype: int64"
      ]
     },
     "execution_count": 38,
     "metadata": {},
     "output_type": "execute_result"
    }
   ],
   "source": [
    "labels.value_counts()"
   ]
  },
  {
   "cell_type": "code",
   "execution_count": 39,
   "id": "8f0210ad",
   "metadata": {},
   "outputs": [],
   "source": [
    "lsvc = LinearSVC(C=0.01, penalty=\"l1\", dual=False).fit(data, labels)"
   ]
  },
  {
   "cell_type": "code",
   "execution_count": 40,
   "id": "e3dfc77f",
   "metadata": {},
   "outputs": [],
   "source": [
    "model = SelectFromModel(lsvc, prefit=True)"
   ]
  },
  {
   "cell_type": "code",
   "execution_count": 41,
   "id": "cc74bdd5",
   "metadata": {},
   "outputs": [
    {
     "name": "stderr",
     "output_type": "stream",
     "text": [
      "/Users/boramert/opt/anaconda3/lib/python3.9/site-packages/sklearn/base.py:443: UserWarning: X has feature names, but SelectFromModel was fitted without feature names\n",
      "  warnings.warn(\n"
     ]
    },
    {
     "data": {
      "text/plain": [
       "(1044751, 70)"
      ]
     },
     "execution_count": 41,
     "metadata": {},
     "output_type": "execute_result"
    }
   ],
   "source": [
    "data = model.transform(data)\n",
    "data.shape"
   ]
  },
  {
   "cell_type": "code",
   "execution_count": 42,
   "id": "077f29e9",
   "metadata": {},
   "outputs": [
    {
     "name": "stdout",
     "output_type": "stream",
     "text": [
      "(1044751, 70)\n",
      "(1044751,)\n",
      "0.0    660007\n",
      "1.0    384744\n",
      "Name: Label, dtype: int64\n"
     ]
    }
   ],
   "source": [
    "print(data.shape)\n",
    "print(labels.shape)\n",
    "print(labels.value_counts())"
   ]
  },
  {
   "cell_type": "code",
   "execution_count": 43,
   "id": "81a6481e",
   "metadata": {},
   "outputs": [
    {
     "name": "stdout",
     "output_type": "stream",
     "text": [
      "Train Size\n",
      "835800\n",
      "Test Size\n",
      "208951\n"
     ]
    }
   ],
   "source": [
    "x_train, x_test, y_train, y_test = train_test_split(data, labels, test_size = 0.2, random_state = 12345)\n",
    "print('Train Size')\n",
    "print(x_train.shape[0])\n",
    "print('Test Size')\n",
    "print(x_test.shape[0])"
   ]
  },
  {
   "cell_type": "code",
   "execution_count": 44,
   "id": "6768600a",
   "metadata": {},
   "outputs": [],
   "source": [
    "x_train_benign = x_train[y_train == 0]"
   ]
  },
  {
   "cell_type": "code",
   "execution_count": 45,
   "id": "10de2099",
   "metadata": {},
   "outputs": [
    {
     "data": {
      "text/plain": [
       "(528295, 70)"
      ]
     },
     "execution_count": 45,
     "metadata": {},
     "output_type": "execute_result"
    }
   ],
   "source": [
    "x_train_benign.shape"
   ]
  },
  {
   "cell_type": "code",
   "execution_count": 52,
   "id": "05f8309d",
   "metadata": {},
   "outputs": [],
   "source": [
    "input = tf.keras.layers.Input(shape=(70,))"
   ]
  },
  {
   "cell_type": "code",
   "execution_count": 53,
   "id": "9794a4a2",
   "metadata": {},
   "outputs": [],
   "source": [
    "encoder = tf.keras.Sequential([\n",
    "    layers.Dense(40, activation='sigmoid'),\n",
    "    layers.Dense(20, activation='relu'),\n",
    "    layers.Dense(10, activation='relu')])(input)"
   ]
  },
  {
   "cell_type": "code",
   "execution_count": 54,
   "id": "972d1e4f",
   "metadata": {},
   "outputs": [],
   "source": [
    "decoder = tf.keras.Sequential([\n",
    "    layers.Dense(20, activation='relu'),\n",
    "    layers.Dense(40, activation='relu'),\n",
    "    layers.Dense(70, activation='sigmoid')])(encoder)"
   ]
  },
  {
   "cell_type": "code",
   "execution_count": 55,
   "id": "5956d447",
   "metadata": {},
   "outputs": [],
   "source": [
    "autoencoder = tf.keras.Model(inputs=input, outputs=decoder)"
   ]
  },
  {
   "cell_type": "code",
   "execution_count": 56,
   "id": "ab167568",
   "metadata": {},
   "outputs": [],
   "source": [
    "autoencoder.compile(optimizer='adam', loss='mae', metrics = 'accuracy')"
   ]
  },
  {
   "cell_type": "code",
   "execution_count": 57,
   "id": "bc99af6d",
   "metadata": {
    "scrolled": false
   },
   "outputs": [
    {
     "name": "stdout",
     "output_type": "stream",
     "text": [
      "Epoch 1/40\n",
      "5283/5283 [==============================] - 5s 964us/step - loss: 0.3687 - accuracy: 0.0433 - val_loss: 0.3542 - val_accuracy: 0.0330\n",
      "Epoch 2/40\n",
      "5283/5283 [==============================] - 5s 949us/step - loss: 0.3566 - accuracy: 0.0533 - val_loss: 0.3526 - val_accuracy: 0.0356\n",
      "Epoch 3/40\n",
      "5283/5283 [==============================] - 5s 940us/step - loss: 0.3527 - accuracy: 0.0624 - val_loss: 0.3465 - val_accuracy: 0.0485\n",
      "Epoch 4/40\n",
      "5283/5283 [==============================] - 5s 939us/step - loss: 0.3477 - accuracy: 0.1230 - val_loss: 0.3426 - val_accuracy: 0.1034\n",
      "Epoch 5/40\n",
      "5283/5283 [==============================] - 5s 942us/step - loss: 0.3459 - accuracy: 0.1602 - val_loss: 0.3423 - val_accuracy: 0.1120\n",
      "Epoch 6/40\n",
      "5283/5283 [==============================] - 5s 936us/step - loss: 0.3422 - accuracy: 0.1684 - val_loss: 0.3390 - val_accuracy: 0.1179\n",
      "Epoch 7/40\n",
      "5283/5283 [==============================] - 5s 948us/step - loss: 0.3410 - accuracy: 0.1700 - val_loss: 0.3383 - val_accuracy: 0.1179\n",
      "Epoch 8/40\n",
      "5283/5283 [==============================] - 5s 937us/step - loss: 0.3408 - accuracy: 0.1755 - val_loss: 0.3377 - val_accuracy: 0.1271\n",
      "Epoch 9/40\n",
      "5283/5283 [==============================] - 5s 936us/step - loss: 0.3402 - accuracy: 0.1849 - val_loss: 0.3371 - val_accuracy: 0.1301\n",
      "Epoch 10/40\n",
      "5283/5283 [==============================] - 5s 935us/step - loss: 0.3365 - accuracy: 0.1864 - val_loss: 0.3304 - val_accuracy: 0.1315\n",
      "Epoch 11/40\n",
      "5283/5283 [==============================] - 5s 933us/step - loss: 0.3291 - accuracy: 0.2248 - val_loss: 0.3302 - val_accuracy: 0.2370\n",
      "Epoch 12/40\n",
      "5283/5283 [==============================] - 5s 935us/step - loss: 0.3283 - accuracy: 0.3522 - val_loss: 0.3297 - val_accuracy: 0.2331\n",
      "Epoch 13/40\n",
      "5283/5283 [==============================] - 5s 940us/step - loss: 0.3267 - accuracy: 0.3520 - val_loss: 0.3285 - val_accuracy: 0.2316\n",
      "Epoch 14/40\n",
      "5283/5283 [==============================] - 5s 940us/step - loss: 0.3264 - accuracy: 0.3509 - val_loss: 0.3283 - val_accuracy: 0.2326\n",
      "Epoch 15/40\n",
      "5283/5283 [==============================] - 5s 943us/step - loss: 0.3263 - accuracy: 0.3515 - val_loss: 0.3282 - val_accuracy: 0.2327\n",
      "Epoch 16/40\n",
      "5283/5283 [==============================] - 5s 947us/step - loss: 0.3263 - accuracy: 0.3522 - val_loss: 0.3280 - val_accuracy: 0.2361\n",
      "Epoch 17/40\n",
      "5283/5283 [==============================] - 5s 947us/step - loss: 0.3262 - accuracy: 0.3546 - val_loss: 0.3281 - val_accuracy: 0.2335\n",
      "Epoch 18/40\n",
      "5283/5283 [==============================] - 5s 948us/step - loss: 0.3262 - accuracy: 0.3525 - val_loss: 0.3279 - val_accuracy: 0.2322\n",
      "Epoch 19/40\n",
      "5283/5283 [==============================] - 5s 948us/step - loss: 0.3261 - accuracy: 0.3554 - val_loss: 0.3279 - val_accuracy: 0.2360\n",
      "Epoch 20/40\n",
      "5283/5283 [==============================] - 5s 949us/step - loss: 0.3261 - accuracy: 0.3565 - val_loss: 0.3279 - val_accuracy: 0.2363\n",
      "Epoch 21/40\n",
      "5283/5283 [==============================] - 5s 949us/step - loss: 0.3261 - accuracy: 0.3578 - val_loss: 0.3279 - val_accuracy: 0.2410\n",
      "Epoch 22/40\n",
      "5283/5283 [==============================] - 5s 951us/step - loss: 0.3260 - accuracy: 0.3608 - val_loss: 0.3279 - val_accuracy: 0.2391\n",
      "Epoch 23/40\n",
      "5283/5283 [==============================] - 5s 956us/step - loss: 0.3260 - accuracy: 0.3633 - val_loss: 0.3277 - val_accuracy: 0.2446\n",
      "Epoch 24/40\n",
      "5283/5283 [==============================] - 5s 953us/step - loss: 0.3260 - accuracy: 0.3703 - val_loss: 0.3278 - val_accuracy: 0.2526\n",
      "Epoch 25/40\n",
      "5283/5283 [==============================] - 5s 955us/step - loss: 0.3259 - accuracy: 0.3773 - val_loss: 0.3276 - val_accuracy: 0.2487\n",
      "Epoch 26/40\n",
      "5283/5283 [==============================] - 5s 955us/step - loss: 0.3259 - accuracy: 0.3825 - val_loss: 0.3275 - val_accuracy: 0.2478\n",
      "Epoch 27/40\n",
      "5283/5283 [==============================] - 5s 954us/step - loss: 0.3259 - accuracy: 0.3810 - val_loss: 0.3276 - val_accuracy: 0.2414\n",
      "Epoch 28/40\n",
      "5283/5283 [==============================] - 5s 956us/step - loss: 0.3258 - accuracy: 0.3789 - val_loss: 0.3271 - val_accuracy: 0.2461\n",
      "Epoch 29/40\n",
      "5283/5283 [==============================] - 5s 966us/step - loss: 0.3258 - accuracy: 0.3726 - val_loss: 0.3274 - val_accuracy: 0.2513\n",
      "Epoch 30/40\n",
      "5283/5283 [==============================] - 5s 959us/step - loss: 0.3258 - accuracy: 0.3663 - val_loss: 0.3271 - val_accuracy: 0.2375\n",
      "Epoch 31/40\n",
      "5283/5283 [==============================] - 5s 958us/step - loss: 0.3258 - accuracy: 0.3597 - val_loss: 0.3270 - val_accuracy: 0.2243\n",
      "Epoch 32/40\n",
      "5283/5283 [==============================] - 5s 970us/step - loss: 0.3257 - accuracy: 0.3368 - val_loss: 0.3271 - val_accuracy: 0.2085\n",
      "Epoch 33/40\n",
      "5283/5283 [==============================] - 5s 960us/step - loss: 0.3256 - accuracy: 0.3219 - val_loss: 0.3269 - val_accuracy: 0.2097\n",
      "Epoch 34/40\n",
      "5283/5283 [==============================] - 5s 975us/step - loss: 0.3220 - accuracy: 0.3472 - val_loss: 0.3234 - val_accuracy: 0.2348\n",
      "Epoch 35/40\n",
      "5283/5283 [==============================] - 5s 999us/step - loss: 0.3215 - accuracy: 0.3535 - val_loss: 0.3231 - val_accuracy: 0.2339\n",
      "Epoch 36/40\n",
      "5283/5283 [==============================] - 5s 981us/step - loss: 0.3214 - accuracy: 0.3594 - val_loss: 0.3225 - val_accuracy: 0.2417\n",
      "Epoch 37/40\n",
      "5283/5283 [==============================] - 5s 967us/step - loss: 0.3213 - accuracy: 0.3665 - val_loss: 0.3223 - val_accuracy: 0.2436\n",
      "Epoch 38/40\n",
      "5283/5283 [==============================] - 5s 966us/step - loss: 0.3212 - accuracy: 0.3687 - val_loss: 0.3223 - val_accuracy: 0.2465\n",
      "Epoch 39/40\n",
      "5283/5283 [==============================] - 5s 959us/step - loss: 0.3211 - accuracy: 0.3799 - val_loss: 0.3222 - val_accuracy: 0.2541\n",
      "Epoch 40/40\n",
      "5283/5283 [==============================] - 5s 960us/step - loss: 0.3210 - accuracy: 0.3886 - val_loss: 0.3221 - val_accuracy: 0.2516\n"
     ]
    }
   ],
   "source": [
    "history = autoencoder.fit(x_train_benign, x_train_benign,\n",
    "                         epochs = 40,\n",
    "                         batch_size=100,\n",
    "                         validation_data=(x_test,x_test),\n",
    "                         shuffle=True)"
   ]
  },
  {
   "cell_type": "code",
   "execution_count": null,
   "id": "26ded2f8",
   "metadata": {},
   "outputs": [],
   "source": []
  }
 ],
 "metadata": {
  "kernelspec": {
   "display_name": "Python 3 (ipykernel)",
   "language": "python",
   "name": "python3"
  },
  "language_info": {
   "codemirror_mode": {
    "name": "ipython",
    "version": 3
   },
   "file_extension": ".py",
   "mimetype": "text/x-python",
   "name": "python",
   "nbconvert_exporter": "python",
   "pygments_lexer": "ipython3",
   "version": "3.9.13"
  }
 },
 "nbformat": 4,
 "nbformat_minor": 5
}
