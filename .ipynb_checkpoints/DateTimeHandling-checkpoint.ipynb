{
 "cells": [
  {
   "cell_type": "code",
   "execution_count": 1,
   "id": "50c832b7",
   "metadata": {},
   "outputs": [],
   "source": [
    "import pandas as pd\n",
    "import numpy as np\n",
    "import matplotlib.pyplot as plt;\n",
    "from sklearn.preprocessing import StandardScaler, LabelEncoder\n",
    "import seaborn as sns"
   ]
  },
  {
   "cell_type": "code",
   "execution_count": 2,
   "id": "ed17560e",
   "metadata": {},
   "outputs": [],
   "source": [
    "pd.set_option(\"display.max_rows\", None,\n",
    "             \"display.max_columns\", None)"
   ]
  },
  {
   "cell_type": "code",
   "execution_count": null,
   "id": "9573c8de",
   "metadata": {},
   "outputs": [],
   "source": [
    "dataset = pd.read_csv(\"/Users/boramert/Desktop/Code/bil570proje/archive/new_df.csv\", low_memory=False)"
   ]
  },
  {
   "cell_type": "code",
   "execution_count": null,
   "id": "daab7d2c",
   "metadata": {
    "scrolled": true
   },
   "outputs": [],
   "source": [
    "dataset.head()"
   ]
  },
  {
   "cell_type": "code",
   "execution_count": null,
   "id": "52422345",
   "metadata": {
    "scrolled": false
   },
   "outputs": [],
   "source": [
    "dataset['Timestamp'].head()"
   ]
  },
  {
   "cell_type": "code",
   "execution_count": null,
   "id": "1a83a6fc",
   "metadata": {},
   "outputs": [],
   "source": [
    "times = pd.to_datetime(dataset['Timestamp'], format = '%d/%m/%Y %H:%M:%S')"
   ]
  },
  {
   "cell_type": "code",
   "execution_count": null,
   "id": "bd295a5a",
   "metadata": {},
   "outputs": [],
   "source": [
    "times.head()"
   ]
  },
  {
   "cell_type": "code",
   "execution_count": null,
   "id": "658476da",
   "metadata": {},
   "outputs": [],
   "source": [
    "times.dt.second.head()"
   ]
  },
  {
   "cell_type": "code",
   "execution_count": null,
   "id": "473889a0",
   "metadata": {},
   "outputs": [],
   "source": [
    "dataset['timestamp_year'] = times.dt.year\n",
    "dataset['timestamp_month'] = times.dt.month\n",
    "dataset['timestamp_day'] = times.dt.day\n",
    "dataset['timestamp_hour'] = times.dt.hour\n",
    "dataset['timestamp_minute'] = times.dt.minute\n",
    "dataset['timestamp_second'] = times.dt.second"
   ]
  },
  {
   "cell_type": "code",
   "execution_count": null,
   "id": "fb3a6948",
   "metadata": {},
   "outputs": [],
   "source": [
    "dataset.drop('Timestamp', axis = 1, inplace = True)"
   ]
  },
  {
   "cell_type": "code",
   "execution_count": null,
   "id": "2e722229",
   "metadata": {},
   "outputs": [],
   "source": [
    "dataset.head()"
   ]
  },
  {
   "cell_type": "code",
   "execution_count": null,
   "id": "455d5954",
   "metadata": {},
   "outputs": [],
   "source": [
    "dataset.to_csv(r'/Users/boramert/Desktop/Code/bil570proje/archive/dataset.csv')"
   ]
  }
 ],
 "metadata": {
  "kernelspec": {
   "display_name": "Python 3 (ipykernel)",
   "language": "python",
   "name": "python3"
  },
  "language_info": {
   "codemirror_mode": {
    "name": "ipython",
    "version": 3
   },
   "file_extension": ".py",
   "mimetype": "text/x-python",
   "name": "python",
   "nbconvert_exporter": "python",
   "pygments_lexer": "ipython3",
   "version": "3.9.13"
  }
 },
 "nbformat": 4,
 "nbformat_minor": 5
}
