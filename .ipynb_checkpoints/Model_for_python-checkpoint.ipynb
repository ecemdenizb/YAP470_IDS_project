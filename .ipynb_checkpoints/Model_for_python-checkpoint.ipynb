{
 "cells": [
  {
   "cell_type": "markdown",
   "id": "e5fe744d",
   "metadata": {},
   "source": [
    "Import packages"
   ]
  },
  {
   "cell_type": "code",
   "execution_count": 5,
   "id": "0613ea82",
   "metadata": {},
   "outputs": [
    {
     "name": "stderr",
     "output_type": "stream",
     "text": [
      "/Users/boramert/opt/anaconda3/envs/tf2/lib/python3.9/site-packages/scipy/__init__.py:146: UserWarning: A NumPy version >=1.16.5 and <1.23.0 is required for this version of SciPy (detected version 1.23.3\n",
      "  warnings.warn(f\"A NumPy version >={np_minversion} and <{np_maxversion}\"\n"
     ]
    }
   ],
   "source": [
    "import pandas as pd\n",
    "import numpy as np\n",
    "\n",
    "import tensorflow as tf\n",
    "from tensorflow.keras import layers, losses\n",
    "from tensorflow.keras.models import Model, load_model\n",
    "from tensorflow.keras.layers import Input, Dense\n",
    "from tensorflow.keras.callbacks import ModelCheckpoint, TensorBoard\n",
    "from tensorflow.keras import regularizers, Sequential\n",
    "\n",
    "from sklearn.metrics import accuracy_score, precision_score, recall_score\n",
    "from sklearn.model_selection import train_test_split\n",
    "from sklearn import preprocessing\n",
    "from sklearn.preprocessing import StandardScaler\n",
    "from sklearn.preprocessing import MinMaxScaler\n",
    "from sklearn.metrics import classification_report, accuracy_score\n",
    "\n",
    "import matplotlib.pyplot as plt\n",
    "from matplotlib import gridspec\n",
    "\n",
    "from scipy import stats\n",
    "\n",
    "import seaborn as sns\n",
    "\n",
    "%matplotlib inline\n",
    "sns.set(style='whitegrid', palette='muted', font_scale=1.5)\n",
    "pd.set_option(\"display.max_rows\", None,\n",
    "             \"display.max_columns\", None)"
   ]
  },
  {
   "cell_type": "code",
   "execution_count": 6,
   "id": "db066f5a",
   "metadata": {},
   "outputs": [],
   "source": [
    "def scaling(ds): \n",
    "    scaler=preprocessing.StandardScaler()\n",
    "    scaled_ds=scaler.fit_transform(ds)\n",
    "    return scaled_ds\n",
    "\n",
    "def drop_infs(ds):\n",
    "    ds.replace([np.inf, -np.inf], np.nan, inplace=True)\n",
    "    ds.dropna(how='any', inplace=True)\n",
    "    return ds"
   ]
  },
  {
   "cell_type": "markdown",
   "id": "9e42c566",
   "metadata": {},
   "source": [
    "Get dataset"
   ]
  },
  {
   "cell_type": "code",
   "execution_count": 7,
   "id": "990cfd90",
   "metadata": {
    "scrolled": true
   },
   "outputs": [
    {
     "data": {
      "text/html": [
       "<div>\n",
       "<style scoped>\n",
       "    .dataframe tbody tr th:only-of-type {\n",
       "        vertical-align: middle;\n",
       "    }\n",
       "\n",
       "    .dataframe tbody tr th {\n",
       "        vertical-align: top;\n",
       "    }\n",
       "\n",
       "    .dataframe thead th {\n",
       "        text-align: right;\n",
       "    }\n",
       "</style>\n",
       "<table border=\"1\" class=\"dataframe\">\n",
       "  <thead>\n",
       "    <tr style=\"text-align: right;\">\n",
       "      <th></th>\n",
       "      <th>Destination Port</th>\n",
       "      <th>Flow Duration</th>\n",
       "      <th>Total Fwd Packets</th>\n",
       "      <th>Total Backward Packets</th>\n",
       "      <th>Total Length of Fwd Packets</th>\n",
       "      <th>Total Length of Bwd Packets</th>\n",
       "      <th>Fwd Packet Length Max</th>\n",
       "      <th>Fwd Packet Length Min</th>\n",
       "      <th>Fwd Packet Length Mean</th>\n",
       "      <th>Fwd Packet Length Std</th>\n",
       "      <th>Bwd Packet Length Max</th>\n",
       "      <th>Bwd Packet Length Min</th>\n",
       "      <th>Bwd Packet Length Mean</th>\n",
       "      <th>Bwd Packet Length Std</th>\n",
       "      <th>Flow Bytes/s</th>\n",
       "      <th>Flow Packets/s</th>\n",
       "      <th>Flow IAT Mean</th>\n",
       "      <th>Flow IAT Std</th>\n",
       "      <th>Flow IAT Max</th>\n",
       "      <th>Flow IAT Min</th>\n",
       "      <th>Fwd IAT Total</th>\n",
       "      <th>Fwd IAT Mean</th>\n",
       "      <th>Fwd IAT Std</th>\n",
       "      <th>Fwd IAT Max</th>\n",
       "      <th>Fwd IAT Min</th>\n",
       "      <th>Bwd IAT Total</th>\n",
       "      <th>Bwd IAT Mean</th>\n",
       "      <th>Bwd IAT Std</th>\n",
       "      <th>Bwd IAT Max</th>\n",
       "      <th>Bwd IAT Min</th>\n",
       "      <th>Fwd PSH Flags</th>\n",
       "      <th>Bwd PSH Flags</th>\n",
       "      <th>Fwd URG Flags</th>\n",
       "      <th>Bwd URG Flags</th>\n",
       "      <th>Fwd Header Length</th>\n",
       "      <th>Bwd Header Length</th>\n",
       "      <th>Fwd Packets/s</th>\n",
       "      <th>Bwd Packets/s</th>\n",
       "      <th>Min Packet Length</th>\n",
       "      <th>Max Packet Length</th>\n",
       "      <th>Packet Length Mean</th>\n",
       "      <th>Packet Length Std</th>\n",
       "      <th>Packet Length Variance</th>\n",
       "      <th>FIN Flag Count</th>\n",
       "      <th>SYN Flag Count</th>\n",
       "      <th>RST Flag Count</th>\n",
       "      <th>PSH Flag Count</th>\n",
       "      <th>ACK Flag Count</th>\n",
       "      <th>URG Flag Count</th>\n",
       "      <th>CWE Flag Count</th>\n",
       "      <th>ECE Flag Count</th>\n",
       "      <th>Down/Up Ratio</th>\n",
       "      <th>Average Packet Size</th>\n",
       "      <th>Avg Fwd Segment Size</th>\n",
       "      <th>Avg Bwd Segment Size</th>\n",
       "      <th>Fwd Header Length.1</th>\n",
       "      <th>Fwd Avg Bytes/Bulk</th>\n",
       "      <th>Fwd Avg Packets/Bulk</th>\n",
       "      <th>Fwd Avg Bulk Rate</th>\n",
       "      <th>Bwd Avg Bytes/Bulk</th>\n",
       "      <th>Bwd Avg Packets/Bulk</th>\n",
       "      <th>Bwd Avg Bulk Rate</th>\n",
       "      <th>Subflow Fwd Packets</th>\n",
       "      <th>Subflow Fwd Bytes</th>\n",
       "      <th>Subflow Bwd Packets</th>\n",
       "      <th>Subflow Bwd Bytes</th>\n",
       "      <th>Init_Win_bytes_forward</th>\n",
       "      <th>Init_Win_bytes_backward</th>\n",
       "      <th>act_data_pkt_fwd</th>\n",
       "      <th>min_seg_size_forward</th>\n",
       "      <th>Active Mean</th>\n",
       "      <th>Active Std</th>\n",
       "      <th>Active Max</th>\n",
       "      <th>Active Min</th>\n",
       "      <th>Idle Mean</th>\n",
       "      <th>Idle Std</th>\n",
       "      <th>Idle Max</th>\n",
       "      <th>Idle Min</th>\n",
       "      <th>Label</th>\n",
       "    </tr>\n",
       "  </thead>\n",
       "  <tbody>\n",
       "    <tr>\n",
       "      <th>0</th>\n",
       "      <td>54865</td>\n",
       "      <td>3</td>\n",
       "      <td>2</td>\n",
       "      <td>0</td>\n",
       "      <td>12</td>\n",
       "      <td>0</td>\n",
       "      <td>6</td>\n",
       "      <td>6</td>\n",
       "      <td>6.0</td>\n",
       "      <td>0.0</td>\n",
       "      <td>0</td>\n",
       "      <td>0</td>\n",
       "      <td>0.0</td>\n",
       "      <td>0.0</td>\n",
       "      <td>4.000000e+06</td>\n",
       "      <td>666666.66670</td>\n",
       "      <td>3.0</td>\n",
       "      <td>0.0</td>\n",
       "      <td>3</td>\n",
       "      <td>3</td>\n",
       "      <td>3</td>\n",
       "      <td>3.0</td>\n",
       "      <td>0.0</td>\n",
       "      <td>3</td>\n",
       "      <td>3</td>\n",
       "      <td>0</td>\n",
       "      <td>0.0</td>\n",
       "      <td>0.0</td>\n",
       "      <td>0</td>\n",
       "      <td>0</td>\n",
       "      <td>0</td>\n",
       "      <td>0</td>\n",
       "      <td>0</td>\n",
       "      <td>0</td>\n",
       "      <td>40</td>\n",
       "      <td>0</td>\n",
       "      <td>666666.666700</td>\n",
       "      <td>0.000000</td>\n",
       "      <td>6</td>\n",
       "      <td>6</td>\n",
       "      <td>6.0</td>\n",
       "      <td>0.0</td>\n",
       "      <td>0.0</td>\n",
       "      <td>0</td>\n",
       "      <td>0</td>\n",
       "      <td>0</td>\n",
       "      <td>0</td>\n",
       "      <td>1</td>\n",
       "      <td>0</td>\n",
       "      <td>0</td>\n",
       "      <td>0</td>\n",
       "      <td>0</td>\n",
       "      <td>9.0</td>\n",
       "      <td>6.0</td>\n",
       "      <td>0.0</td>\n",
       "      <td>40</td>\n",
       "      <td>0</td>\n",
       "      <td>0</td>\n",
       "      <td>0</td>\n",
       "      <td>0</td>\n",
       "      <td>0</td>\n",
       "      <td>0</td>\n",
       "      <td>2</td>\n",
       "      <td>12</td>\n",
       "      <td>0</td>\n",
       "      <td>0</td>\n",
       "      <td>33</td>\n",
       "      <td>-1</td>\n",
       "      <td>1</td>\n",
       "      <td>20</td>\n",
       "      <td>0.0</td>\n",
       "      <td>0.0</td>\n",
       "      <td>0</td>\n",
       "      <td>0</td>\n",
       "      <td>0.0</td>\n",
       "      <td>0.0</td>\n",
       "      <td>0</td>\n",
       "      <td>0</td>\n",
       "      <td>BENIGN</td>\n",
       "    </tr>\n",
       "    <tr>\n",
       "      <th>1</th>\n",
       "      <td>55054</td>\n",
       "      <td>109</td>\n",
       "      <td>1</td>\n",
       "      <td>1</td>\n",
       "      <td>6</td>\n",
       "      <td>6</td>\n",
       "      <td>6</td>\n",
       "      <td>6</td>\n",
       "      <td>6.0</td>\n",
       "      <td>0.0</td>\n",
       "      <td>6</td>\n",
       "      <td>6</td>\n",
       "      <td>6.0</td>\n",
       "      <td>0.0</td>\n",
       "      <td>1.100917e+05</td>\n",
       "      <td>18348.62385</td>\n",
       "      <td>109.0</td>\n",
       "      <td>0.0</td>\n",
       "      <td>109</td>\n",
       "      <td>109</td>\n",
       "      <td>0</td>\n",
       "      <td>0.0</td>\n",
       "      <td>0.0</td>\n",
       "      <td>0</td>\n",
       "      <td>0</td>\n",
       "      <td>0</td>\n",
       "      <td>0.0</td>\n",
       "      <td>0.0</td>\n",
       "      <td>0</td>\n",
       "      <td>0</td>\n",
       "      <td>0</td>\n",
       "      <td>0</td>\n",
       "      <td>0</td>\n",
       "      <td>0</td>\n",
       "      <td>20</td>\n",
       "      <td>20</td>\n",
       "      <td>9174.311927</td>\n",
       "      <td>9174.311927</td>\n",
       "      <td>6</td>\n",
       "      <td>6</td>\n",
       "      <td>6.0</td>\n",
       "      <td>0.0</td>\n",
       "      <td>0.0</td>\n",
       "      <td>0</td>\n",
       "      <td>0</td>\n",
       "      <td>0</td>\n",
       "      <td>0</td>\n",
       "      <td>1</td>\n",
       "      <td>1</td>\n",
       "      <td>0</td>\n",
       "      <td>0</td>\n",
       "      <td>1</td>\n",
       "      <td>9.0</td>\n",
       "      <td>6.0</td>\n",
       "      <td>6.0</td>\n",
       "      <td>20</td>\n",
       "      <td>0</td>\n",
       "      <td>0</td>\n",
       "      <td>0</td>\n",
       "      <td>0</td>\n",
       "      <td>0</td>\n",
       "      <td>0</td>\n",
       "      <td>1</td>\n",
       "      <td>6</td>\n",
       "      <td>1</td>\n",
       "      <td>6</td>\n",
       "      <td>29</td>\n",
       "      <td>256</td>\n",
       "      <td>0</td>\n",
       "      <td>20</td>\n",
       "      <td>0.0</td>\n",
       "      <td>0.0</td>\n",
       "      <td>0</td>\n",
       "      <td>0</td>\n",
       "      <td>0.0</td>\n",
       "      <td>0.0</td>\n",
       "      <td>0</td>\n",
       "      <td>0</td>\n",
       "      <td>BENIGN</td>\n",
       "    </tr>\n",
       "    <tr>\n",
       "      <th>2</th>\n",
       "      <td>55055</td>\n",
       "      <td>52</td>\n",
       "      <td>1</td>\n",
       "      <td>1</td>\n",
       "      <td>6</td>\n",
       "      <td>6</td>\n",
       "      <td>6</td>\n",
       "      <td>6</td>\n",
       "      <td>6.0</td>\n",
       "      <td>0.0</td>\n",
       "      <td>6</td>\n",
       "      <td>6</td>\n",
       "      <td>6.0</td>\n",
       "      <td>0.0</td>\n",
       "      <td>2.307692e+05</td>\n",
       "      <td>38461.53846</td>\n",
       "      <td>52.0</td>\n",
       "      <td>0.0</td>\n",
       "      <td>52</td>\n",
       "      <td>52</td>\n",
       "      <td>0</td>\n",
       "      <td>0.0</td>\n",
       "      <td>0.0</td>\n",
       "      <td>0</td>\n",
       "      <td>0</td>\n",
       "      <td>0</td>\n",
       "      <td>0.0</td>\n",
       "      <td>0.0</td>\n",
       "      <td>0</td>\n",
       "      <td>0</td>\n",
       "      <td>0</td>\n",
       "      <td>0</td>\n",
       "      <td>0</td>\n",
       "      <td>0</td>\n",
       "      <td>20</td>\n",
       "      <td>20</td>\n",
       "      <td>19230.769230</td>\n",
       "      <td>19230.769230</td>\n",
       "      <td>6</td>\n",
       "      <td>6</td>\n",
       "      <td>6.0</td>\n",
       "      <td>0.0</td>\n",
       "      <td>0.0</td>\n",
       "      <td>0</td>\n",
       "      <td>0</td>\n",
       "      <td>0</td>\n",
       "      <td>0</td>\n",
       "      <td>1</td>\n",
       "      <td>1</td>\n",
       "      <td>0</td>\n",
       "      <td>0</td>\n",
       "      <td>1</td>\n",
       "      <td>9.0</td>\n",
       "      <td>6.0</td>\n",
       "      <td>6.0</td>\n",
       "      <td>20</td>\n",
       "      <td>0</td>\n",
       "      <td>0</td>\n",
       "      <td>0</td>\n",
       "      <td>0</td>\n",
       "      <td>0</td>\n",
       "      <td>0</td>\n",
       "      <td>1</td>\n",
       "      <td>6</td>\n",
       "      <td>1</td>\n",
       "      <td>6</td>\n",
       "      <td>29</td>\n",
       "      <td>256</td>\n",
       "      <td>0</td>\n",
       "      <td>20</td>\n",
       "      <td>0.0</td>\n",
       "      <td>0.0</td>\n",
       "      <td>0</td>\n",
       "      <td>0</td>\n",
       "      <td>0.0</td>\n",
       "      <td>0.0</td>\n",
       "      <td>0</td>\n",
       "      <td>0</td>\n",
       "      <td>BENIGN</td>\n",
       "    </tr>\n",
       "    <tr>\n",
       "      <th>3</th>\n",
       "      <td>46236</td>\n",
       "      <td>34</td>\n",
       "      <td>1</td>\n",
       "      <td>1</td>\n",
       "      <td>6</td>\n",
       "      <td>6</td>\n",
       "      <td>6</td>\n",
       "      <td>6</td>\n",
       "      <td>6.0</td>\n",
       "      <td>0.0</td>\n",
       "      <td>6</td>\n",
       "      <td>6</td>\n",
       "      <td>6.0</td>\n",
       "      <td>0.0</td>\n",
       "      <td>3.529412e+05</td>\n",
       "      <td>58823.52941</td>\n",
       "      <td>34.0</td>\n",
       "      <td>0.0</td>\n",
       "      <td>34</td>\n",
       "      <td>34</td>\n",
       "      <td>0</td>\n",
       "      <td>0.0</td>\n",
       "      <td>0.0</td>\n",
       "      <td>0</td>\n",
       "      <td>0</td>\n",
       "      <td>0</td>\n",
       "      <td>0.0</td>\n",
       "      <td>0.0</td>\n",
       "      <td>0</td>\n",
       "      <td>0</td>\n",
       "      <td>0</td>\n",
       "      <td>0</td>\n",
       "      <td>0</td>\n",
       "      <td>0</td>\n",
       "      <td>20</td>\n",
       "      <td>20</td>\n",
       "      <td>29411.764710</td>\n",
       "      <td>29411.764710</td>\n",
       "      <td>6</td>\n",
       "      <td>6</td>\n",
       "      <td>6.0</td>\n",
       "      <td>0.0</td>\n",
       "      <td>0.0</td>\n",
       "      <td>0</td>\n",
       "      <td>0</td>\n",
       "      <td>0</td>\n",
       "      <td>0</td>\n",
       "      <td>1</td>\n",
       "      <td>1</td>\n",
       "      <td>0</td>\n",
       "      <td>0</td>\n",
       "      <td>1</td>\n",
       "      <td>9.0</td>\n",
       "      <td>6.0</td>\n",
       "      <td>6.0</td>\n",
       "      <td>20</td>\n",
       "      <td>0</td>\n",
       "      <td>0</td>\n",
       "      <td>0</td>\n",
       "      <td>0</td>\n",
       "      <td>0</td>\n",
       "      <td>0</td>\n",
       "      <td>1</td>\n",
       "      <td>6</td>\n",
       "      <td>1</td>\n",
       "      <td>6</td>\n",
       "      <td>31</td>\n",
       "      <td>329</td>\n",
       "      <td>0</td>\n",
       "      <td>20</td>\n",
       "      <td>0.0</td>\n",
       "      <td>0.0</td>\n",
       "      <td>0</td>\n",
       "      <td>0</td>\n",
       "      <td>0.0</td>\n",
       "      <td>0.0</td>\n",
       "      <td>0</td>\n",
       "      <td>0</td>\n",
       "      <td>BENIGN</td>\n",
       "    </tr>\n",
       "    <tr>\n",
       "      <th>4</th>\n",
       "      <td>54863</td>\n",
       "      <td>3</td>\n",
       "      <td>2</td>\n",
       "      <td>0</td>\n",
       "      <td>12</td>\n",
       "      <td>0</td>\n",
       "      <td>6</td>\n",
       "      <td>6</td>\n",
       "      <td>6.0</td>\n",
       "      <td>0.0</td>\n",
       "      <td>0</td>\n",
       "      <td>0</td>\n",
       "      <td>0.0</td>\n",
       "      <td>0.0</td>\n",
       "      <td>4.000000e+06</td>\n",
       "      <td>666666.66670</td>\n",
       "      <td>3.0</td>\n",
       "      <td>0.0</td>\n",
       "      <td>3</td>\n",
       "      <td>3</td>\n",
       "      <td>3</td>\n",
       "      <td>3.0</td>\n",
       "      <td>0.0</td>\n",
       "      <td>3</td>\n",
       "      <td>3</td>\n",
       "      <td>0</td>\n",
       "      <td>0.0</td>\n",
       "      <td>0.0</td>\n",
       "      <td>0</td>\n",
       "      <td>0</td>\n",
       "      <td>0</td>\n",
       "      <td>0</td>\n",
       "      <td>0</td>\n",
       "      <td>0</td>\n",
       "      <td>40</td>\n",
       "      <td>0</td>\n",
       "      <td>666666.666700</td>\n",
       "      <td>0.000000</td>\n",
       "      <td>6</td>\n",
       "      <td>6</td>\n",
       "      <td>6.0</td>\n",
       "      <td>0.0</td>\n",
       "      <td>0.0</td>\n",
       "      <td>0</td>\n",
       "      <td>0</td>\n",
       "      <td>0</td>\n",
       "      <td>0</td>\n",
       "      <td>1</td>\n",
       "      <td>0</td>\n",
       "      <td>0</td>\n",
       "      <td>0</td>\n",
       "      <td>0</td>\n",
       "      <td>9.0</td>\n",
       "      <td>6.0</td>\n",
       "      <td>0.0</td>\n",
       "      <td>40</td>\n",
       "      <td>0</td>\n",
       "      <td>0</td>\n",
       "      <td>0</td>\n",
       "      <td>0</td>\n",
       "      <td>0</td>\n",
       "      <td>0</td>\n",
       "      <td>2</td>\n",
       "      <td>12</td>\n",
       "      <td>0</td>\n",
       "      <td>0</td>\n",
       "      <td>32</td>\n",
       "      <td>-1</td>\n",
       "      <td>1</td>\n",
       "      <td>20</td>\n",
       "      <td>0.0</td>\n",
       "      <td>0.0</td>\n",
       "      <td>0</td>\n",
       "      <td>0</td>\n",
       "      <td>0.0</td>\n",
       "      <td>0.0</td>\n",
       "      <td>0</td>\n",
       "      <td>0</td>\n",
       "      <td>BENIGN</td>\n",
       "    </tr>\n",
       "  </tbody>\n",
       "</table>\n",
       "</div>"
      ],
      "text/plain": [
       "    Destination Port   Flow Duration   Total Fwd Packets  \\\n",
       "0              54865               3                   2   \n",
       "1              55054             109                   1   \n",
       "2              55055              52                   1   \n",
       "3              46236              34                   1   \n",
       "4              54863               3                   2   \n",
       "\n",
       "    Total Backward Packets  Total Length of Fwd Packets  \\\n",
       "0                        0                           12   \n",
       "1                        1                            6   \n",
       "2                        1                            6   \n",
       "3                        1                            6   \n",
       "4                        0                           12   \n",
       "\n",
       "    Total Length of Bwd Packets   Fwd Packet Length Max  \\\n",
       "0                             0                       6   \n",
       "1                             6                       6   \n",
       "2                             6                       6   \n",
       "3                             6                       6   \n",
       "4                             0                       6   \n",
       "\n",
       "    Fwd Packet Length Min   Fwd Packet Length Mean   Fwd Packet Length Std  \\\n",
       "0                       6                      6.0                     0.0   \n",
       "1                       6                      6.0                     0.0   \n",
       "2                       6                      6.0                     0.0   \n",
       "3                       6                      6.0                     0.0   \n",
       "4                       6                      6.0                     0.0   \n",
       "\n",
       "   Bwd Packet Length Max   Bwd Packet Length Min   Bwd Packet Length Mean  \\\n",
       "0                      0                       0                      0.0   \n",
       "1                      6                       6                      6.0   \n",
       "2                      6                       6                      6.0   \n",
       "3                      6                       6                      6.0   \n",
       "4                      0                       0                      0.0   \n",
       "\n",
       "    Bwd Packet Length Std  Flow Bytes/s   Flow Packets/s   Flow IAT Mean  \\\n",
       "0                     0.0  4.000000e+06     666666.66670             3.0   \n",
       "1                     0.0  1.100917e+05      18348.62385           109.0   \n",
       "2                     0.0  2.307692e+05      38461.53846            52.0   \n",
       "3                     0.0  3.529412e+05      58823.52941            34.0   \n",
       "4                     0.0  4.000000e+06     666666.66670             3.0   \n",
       "\n",
       "    Flow IAT Std   Flow IAT Max   Flow IAT Min  Fwd IAT Total   Fwd IAT Mean  \\\n",
       "0            0.0              3              3              3            3.0   \n",
       "1            0.0            109            109              0            0.0   \n",
       "2            0.0             52             52              0            0.0   \n",
       "3            0.0             34             34              0            0.0   \n",
       "4            0.0              3              3              3            3.0   \n",
       "\n",
       "    Fwd IAT Std   Fwd IAT Max   Fwd IAT Min  Bwd IAT Total   Bwd IAT Mean  \\\n",
       "0           0.0             3             3              0            0.0   \n",
       "1           0.0             0             0              0            0.0   \n",
       "2           0.0             0             0              0            0.0   \n",
       "3           0.0             0             0              0            0.0   \n",
       "4           0.0             3             3              0            0.0   \n",
       "\n",
       "    Bwd IAT Std   Bwd IAT Max   Bwd IAT Min  Fwd PSH Flags   Bwd PSH Flags  \\\n",
       "0           0.0             0             0              0               0   \n",
       "1           0.0             0             0              0               0   \n",
       "2           0.0             0             0              0               0   \n",
       "3           0.0             0             0              0               0   \n",
       "4           0.0             0             0              0               0   \n",
       "\n",
       "    Fwd URG Flags   Bwd URG Flags   Fwd Header Length   Bwd Header Length  \\\n",
       "0               0               0                  40                   0   \n",
       "1               0               0                  20                  20   \n",
       "2               0               0                  20                  20   \n",
       "3               0               0                  20                  20   \n",
       "4               0               0                  40                   0   \n",
       "\n",
       "   Fwd Packets/s   Bwd Packets/s   Min Packet Length   Max Packet Length  \\\n",
       "0  666666.666700        0.000000                   6                   6   \n",
       "1    9174.311927     9174.311927                   6                   6   \n",
       "2   19230.769230    19230.769230                   6                   6   \n",
       "3   29411.764710    29411.764710                   6                   6   \n",
       "4  666666.666700        0.000000                   6                   6   \n",
       "\n",
       "    Packet Length Mean   Packet Length Std   Packet Length Variance  \\\n",
       "0                  6.0                 0.0                      0.0   \n",
       "1                  6.0                 0.0                      0.0   \n",
       "2                  6.0                 0.0                      0.0   \n",
       "3                  6.0                 0.0                      0.0   \n",
       "4                  6.0                 0.0                      0.0   \n",
       "\n",
       "   FIN Flag Count   SYN Flag Count   RST Flag Count   PSH Flag Count  \\\n",
       "0               0                0                0                0   \n",
       "1               0                0                0                0   \n",
       "2               0                0                0                0   \n",
       "3               0                0                0                0   \n",
       "4               0                0                0                0   \n",
       "\n",
       "    ACK Flag Count   URG Flag Count   CWE Flag Count   ECE Flag Count  \\\n",
       "0                1                0                0                0   \n",
       "1                1                1                0                0   \n",
       "2                1                1                0                0   \n",
       "3                1                1                0                0   \n",
       "4                1                0                0                0   \n",
       "\n",
       "    Down/Up Ratio   Average Packet Size   Avg Fwd Segment Size  \\\n",
       "0               0                   9.0                    6.0   \n",
       "1               1                   9.0                    6.0   \n",
       "2               1                   9.0                    6.0   \n",
       "3               1                   9.0                    6.0   \n",
       "4               0                   9.0                    6.0   \n",
       "\n",
       "    Avg Bwd Segment Size   Fwd Header Length.1  Fwd Avg Bytes/Bulk  \\\n",
       "0                    0.0                    40                   0   \n",
       "1                    6.0                    20                   0   \n",
       "2                    6.0                    20                   0   \n",
       "3                    6.0                    20                   0   \n",
       "4                    0.0                    40                   0   \n",
       "\n",
       "    Fwd Avg Packets/Bulk   Fwd Avg Bulk Rate   Bwd Avg Bytes/Bulk  \\\n",
       "0                      0                   0                    0   \n",
       "1                      0                   0                    0   \n",
       "2                      0                   0                    0   \n",
       "3                      0                   0                    0   \n",
       "4                      0                   0                    0   \n",
       "\n",
       "    Bwd Avg Packets/Bulk  Bwd Avg Bulk Rate  Subflow Fwd Packets  \\\n",
       "0                      0                  0                    2   \n",
       "1                      0                  0                    1   \n",
       "2                      0                  0                    1   \n",
       "3                      0                  0                    1   \n",
       "4                      0                  0                    2   \n",
       "\n",
       "    Subflow Fwd Bytes   Subflow Bwd Packets   Subflow Bwd Bytes  \\\n",
       "0                  12                     0                   0   \n",
       "1                   6                     1                   6   \n",
       "2                   6                     1                   6   \n",
       "3                   6                     1                   6   \n",
       "4                  12                     0                   0   \n",
       "\n",
       "   Init_Win_bytes_forward   Init_Win_bytes_backward   act_data_pkt_fwd  \\\n",
       "0                      33                        -1                  1   \n",
       "1                      29                       256                  0   \n",
       "2                      29                       256                  0   \n",
       "3                      31                       329                  0   \n",
       "4                      32                        -1                  1   \n",
       "\n",
       "    min_seg_size_forward  Active Mean   Active Std   Active Max   Active Min  \\\n",
       "0                     20          0.0          0.0            0            0   \n",
       "1                     20          0.0          0.0            0            0   \n",
       "2                     20          0.0          0.0            0            0   \n",
       "3                     20          0.0          0.0            0            0   \n",
       "4                     20          0.0          0.0            0            0   \n",
       "\n",
       "   Idle Mean   Idle Std   Idle Max   Idle Min   Label  \n",
       "0        0.0        0.0          0          0  BENIGN  \n",
       "1        0.0        0.0          0          0  BENIGN  \n",
       "2        0.0        0.0          0          0  BENIGN  \n",
       "3        0.0        0.0          0          0  BENIGN  \n",
       "4        0.0        0.0          0          0  BENIGN  "
      ]
     },
     "execution_count": 7,
     "metadata": {},
     "output_type": "execute_result"
    }
   ],
   "source": [
    "dataset=pd.read_csv(\"test_dataset.csv\")\n",
    "print(dataset.head())"
   ]
  },
  {
   "cell_type": "code",
   "execution_count": 6,
   "id": "633ac26d",
   "metadata": {},
   "outputs": [],
   "source": [
    "dataset=drop_infs(dataset)\n",
    "\n",
    "labels = dataset[' Label'].copy()\n",
    "\n",
    "le = preprocessing.LabelEncoder()\n",
    "labels_encoded = le.fit_transform(labels)\n",
    "labels_encoded = pd.DataFrame(labels_encoded, columns=[' Label'])\n",
    "labels_encoded = labels_encoded[' Label'].copy()"
   ]
  },
  {
   "cell_type": "code",
   "execution_count": 7,
   "id": "2bef46d8",
   "metadata": {
    "scrolled": true
   },
   "outputs": [
    {
     "data": {
      "text/plain": [
       "array(['BENIGN', 'DDoS', 'PortScan', 'Bot', 'Infiltration',\n",
       "       'Web Attack � Brute Force', 'Web Attack � XSS',\n",
       "       'Web Attack � Sql Injection', 'FTP-Patator', 'SSH-Patator',\n",
       "       'DoS slowloris', 'DoS Slowhttptest', 'DoS Hulk', 'DoS GoldenEye',\n",
       "       'Heartbleed'], dtype=object)"
      ]
     },
     "execution_count": 7,
     "metadata": {},
     "output_type": "execute_result"
    }
   ],
   "source": [
    "print(labels.unique())"
   ]
  },
  {
   "cell_type": "code",
   "execution_count": 9,
   "id": "af37c4a4",
   "metadata": {},
   "outputs": [
    {
     "data": {
      "text/plain": [
       "array([ 0,  2, 10,  1,  9, 12, 14, 13,  7, 11,  6,  5,  4,  3,  8])"
      ]
     },
     "execution_count": 9,
     "metadata": {},
     "output_type": "execute_result"
    }
   ],
   "source": [
    "print(labels_encoded.unique())"
   ]
  },
  {
   "cell_type": "code",
   "execution_count": 10,
   "id": "79bccfa7",
   "metadata": {},
   "outputs": [],
   "source": [
    "dataset.loc[dataset[' Label'] == 'BENIGN', ' Label'] = 0 #Saldırılar için 1 normaller için 0 değeri verme\n",
    "dataset.loc[dataset[' Label'] != 0, ' Label'] = 1"
   ]
  },
  {
   "cell_type": "code",
   "execution_count": 11,
   "id": "f7292ac3",
   "metadata": {},
   "outputs": [],
   "source": [
    "#Dataseti x ve y olarak ayırma\n",
    "y=dataset[' Label']\n",
    "x=dataset.drop(' Label', axis=1)\n",
    "x_scaled=scaling(x)"
   ]
  },
  {
   "cell_type": "code",
   "execution_count": 12,
   "id": "ceaf0bdd",
   "metadata": {},
   "outputs": [],
   "source": [
    "#Dataseti normal ve anormal olarak ayırma\n",
    "x_normal = x_scaled[y == 0]\n",
    "x_anomaly = x_scaled[y == 1]\n",
    "anomaly_labels = labels_encoded[labels_encoded!=0]"
   ]
  },
  {
   "cell_type": "markdown",
   "id": "703228cd",
   "metadata": {},
   "source": [
    "Set autoencoder & data"
   ]
  },
  {
   "cell_type": "code",
   "execution_count": 13,
   "id": "3970dc26",
   "metadata": {},
   "outputs": [
    {
     "name": "stderr",
     "output_type": "stream",
     "text": [
      "2022-12-15 18:26:32.141898: I tensorflow/core/platform/cpu_feature_guard.cc:193] This TensorFlow binary is optimized with oneAPI Deep Neural Network Library (oneDNN) to use the following CPU instructions in performance-critical operations:  SSE4.1 SSE4.2\n",
      "To enable them in other operations, rebuild TensorFlow with the appropriate compiler flags.\n"
     ]
    }
   ],
   "source": [
    "x_normal_train = np.asarray(x_normal).astype(np.float32)\n",
    "\n",
    "x_normal_train = tf.cast(x_normal_train, tf.float32)"
   ]
  },
  {
   "cell_type": "code",
   "execution_count": 14,
   "id": "a4fcb0f0",
   "metadata": {},
   "outputs": [],
   "source": [
    "from tensorflow.keras.optimizers import Adam\n",
    "autoencoder = Sequential()\n",
    "autoencoder.add(Dense(32,  activation='relu', input_shape=(78,)))\n",
    "autoencoder.add(Dense(16,  activation='relu'))\n",
    "autoencoder.add(Dense(8,    activation='linear', name=\"Compressed\"))\n",
    "autoencoder.add(Dense(16,  activation='relu'))\n",
    "autoencoder.add(Dense(32,  activation='relu'))\n",
    "autoencoder.add(Dense(78,  activation='sigmoid'))\n",
    "autoencoder.compile(loss='mean_squared_error', optimizer = 'adam')"
   ]
  },
  {
   "cell_type": "code",
   "execution_count": 15,
   "id": "761007b8",
   "metadata": {},
   "outputs": [
    {
     "name": "stdout",
     "output_type": "stream",
     "text": [
      "Epoch 1/10\n",
      "21773/21773 [==============================] - 18s 794us/step - loss: 0.7548 - val_loss: 0.3538\n",
      "Epoch 2/10\n",
      "21773/21773 [==============================] - 17s 778us/step - loss: 0.7488 - val_loss: 0.3534\n",
      "Epoch 3/10\n",
      "21773/21773 [==============================] - 17s 786us/step - loss: 0.7481 - val_loss: 0.3533\n",
      "Epoch 4/10\n",
      "21773/21773 [==============================] - 17s 777us/step - loss: 0.7478 - val_loss: 0.3530\n",
      "Epoch 5/10\n",
      "21773/21773 [==============================] - 17s 778us/step - loss: 0.7477 - val_loss: 0.3528\n",
      "Epoch 6/10\n",
      "21773/21773 [==============================] - 17s 780us/step - loss: 0.7475 - val_loss: 0.3527\n",
      "Epoch 7/10\n",
      "21773/21773 [==============================] - 17s 778us/step - loss: 0.7472 - val_loss: 0.3527\n",
      "Epoch 8/10\n",
      "21773/21773 [==============================] - 18s 818us/step - loss: 0.7471 - val_loss: 0.3526\n",
      "Epoch 9/10\n",
      "21773/21773 [==============================] - 17s 792us/step - loss: 0.7471 - val_loss: 0.3528\n",
      "Epoch 10/10\n",
      "21773/21773 [==============================] - 18s 821us/step - loss: 0.7471 - val_loss: 0.3527\n"
     ]
    }
   ],
   "source": [
    "history = autoencoder.fit(x_normal_train, \n",
    "                          x_normal_train, \n",
    "                          batch_size=64,     \n",
    "                          epochs=10, \n",
    "                          verbose=1, \n",
    "                          validation_split = 0.20)"
   ]
  },
  {
   "cell_type": "code",
   "execution_count": 16,
   "id": "03046c8e",
   "metadata": {},
   "outputs": [],
   "source": [
    "encoder = Model(autoencoder.input, autoencoder.get_layer('Compressed').output)"
   ]
  },
  {
   "cell_type": "code",
   "execution_count": 64,
   "id": "33f65103",
   "metadata": {},
   "outputs": [],
   "source": [
    "encoder.compile(loss='mean_squared_error', optimizer = 'adam')"
   ]
  },
  {
   "cell_type": "code",
   "execution_count": 17,
   "id": "a95e82cc",
   "metadata": {},
   "outputs": [
    {
     "name": "stdout",
     "output_type": "stream",
     "text": [
      "54433/54433 [==============================] - 18s 330us/step\n",
      "17393/17393 [==============================] - 6s 333us/step\n"
     ]
    }
   ],
   "source": [
    "encoded_normal = encoder.predict(x_normal)   #Normal verilerin feature değerleri\n",
    "encoded_anomaly = encoder.predict(x_anomaly) #Saldırı verilerinin feature değerleri"
   ]
  },
  {
   "cell_type": "code",
   "execution_count": 18,
   "id": "53f23db0",
   "metadata": {},
   "outputs": [],
   "source": [
    "encoded_x = np.append(encoded_normal, encoded_anomaly, axis = 0) #Normal ve saldırı feature değerleri birleştirme\n",
    "normal_y = np.zeros(encoded_normal.shape[0])     #Normal verilerin label'ları\n",
    "anomaly_y = np.ones(encoded_anomaly.shape[0])    #Saldırı verilerinin label'ları\n",
    "encoded_y = np.append(normal_y, anomaly_y)       #Label birleştirme 0-1\n",
    "encoded_labels = np.append(normal_y, anomaly_labels)  #Label birleştirme 0-14"
   ]
  },
  {
   "cell_type": "code",
   "execution_count": 20,
   "id": "38bedaca",
   "metadata": {},
   "outputs": [],
   "source": [
    "y_xgb = np.c_[encoded_y, encoded_labels] #1. sütun: 0-1 sınıflandırma, 2. sütun: 0-14 sınıflandırma"
   ]
  },
  {
   "cell_type": "code",
   "execution_count": 22,
   "id": "ca19c567",
   "metadata": {},
   "outputs": [],
   "source": [
    "x_train, x_test, y_train, y_test = train_test_split(encoded_x, y_xgb, \n",
    "                                                    test_size=0.20, \n",
    "                                                    random_state=12345,\n",
    "                                                    stratify=y_xgb)"
   ]
  },
  {
   "cell_type": "code",
   "execution_count": 23,
   "id": "8daab286",
   "metadata": {},
   "outputs": [],
   "source": [
    "y_train_labels = y_train[:,1]  # Train verisinin y labelları\n",
    "y_test_labels = y_test[:,1]    # Test verisinin y labelları"
   ]
  },
  {
   "cell_type": "code",
   "execution_count": 24,
   "id": "ade1f794",
   "metadata": {},
   "outputs": [
    {
     "data": {
      "text/plain": [
       "(array([ 0.,  1.,  2.,  3.,  4.,  5.,  6.,  7.,  8.,  9., 10., 11., 12.,\n",
       "        13., 14.]),\n",
       " array([1393471,    1565,  102420,    8234,  184099,    4399,    4637,\n",
       "           6348,       9,      29,  127043,    4718,    1205,      17,\n",
       "            522]))"
      ]
     },
     "execution_count": 24,
     "metadata": {},
     "output_type": "execute_result"
    }
   ],
   "source": [
    "print(np.unique(y_train_labels, return_counts=True))"
   ]
  },
  {
   "cell_type": "code",
   "execution_count": 25,
   "id": "71fb8825",
   "metadata": {
    "scrolled": true
   },
   "outputs": [
    {
     "data": {
      "text/plain": [
       "(array(['BENIGN', 'Bot', 'DDoS', 'DoS GoldenEye', 'DoS Hulk',\n",
       "        'DoS Slowhttptest', 'DoS slowloris', 'FTP-Patator', 'Heartbleed',\n",
       "        'Infiltration', 'PortScan', 'SSH-Patator',\n",
       "        'Web Attack � Brute Force', 'Web Attack � Sql Injection',\n",
       "        'Web Attack � XSS'], dtype=object),\n",
       " array([348368,    391,  25605,   2059,  46025,   1100,   1159,   1587,\n",
       "             2,      7,  31761,   1179,    302,      4,    130]))"
      ]
     },
     "execution_count": 25,
     "metadata": {},
     "output_type": "execute_result"
    }
   ],
   "source": [
    "c = le.inverse_transform(y_test_labels.astype(int))\n",
    "print(np.unique(c, return_counts=True))"
   ]
  },
  {
   "cell_type": "code",
   "execution_count": 26,
   "id": "91b0f782",
   "metadata": {},
   "outputs": [],
   "source": [
    "# !pip install imblearn"
   ]
  },
  {
   "cell_type": "code",
   "execution_count": 27,
   "id": "e57ee6fb",
   "metadata": {},
   "outputs": [],
   "source": [
    "#from imblearn.over_sampling import SMOTE"
   ]
  },
  {
   "cell_type": "code",
   "execution_count": 28,
   "id": "a7a755f4",
   "metadata": {},
   "outputs": [],
   "source": [
    "#strategy = {0:1393471, 1:1565, 2:102420, 3:9000, 4:184099, 5:5000, 6:4637, 7:6348, 8:9, 9:29, 10:127043, 11:4718,\n",
    "#           12:2000, 13:50, 14:522}"
   ]
  },
  {
   "cell_type": "code",
   "execution_count": 29,
   "id": "92b262fa",
   "metadata": {},
   "outputs": [],
   "source": [
    "#oversample = SMOTE(sampling_strategy=strategy)"
   ]
  },
  {
   "cell_type": "code",
   "execution_count": 30,
   "id": "f429a72b",
   "metadata": {},
   "outputs": [],
   "source": [
    "#x_train, y_train_labels = oversample.fit_resample(x_train, y_train_labels)"
   ]
  },
  {
   "cell_type": "code",
   "execution_count": 31,
   "id": "634b758c",
   "metadata": {},
   "outputs": [],
   "source": [
    "#np.unique(y_train_labels, return_counts=True)"
   ]
  },
  {
   "cell_type": "code",
   "execution_count": 32,
   "id": "e7a4d9e8",
   "metadata": {},
   "outputs": [],
   "source": [
    "#yy = []\n",
    "#for i in range(len(y_train_labels)):\n",
    "#    if y_train_labels[i] == 0:\n",
    "#        yy.append(0)\n",
    "#    else:\n",
    "#        yy.append(1)\n",
    "#y_train_yeni = np.array(yy) #oversample hali\n",
    "#y_train_yeni = np.c_[y_train_yeni.astype(int), y_train_labels]"
   ]
  },
  {
   "cell_type": "code",
   "execution_count": 33,
   "id": "59033eeb",
   "metadata": {},
   "outputs": [],
   "source": [
    "#np.unique(y_train_yeni, return_counts=True)"
   ]
  },
  {
   "cell_type": "markdown",
   "id": "4dbdaf47",
   "metadata": {},
   "source": [
    "XGBoost"
   ]
  },
  {
   "cell_type": "code",
   "execution_count": 35,
   "id": "0d0cbc61",
   "metadata": {},
   "outputs": [],
   "source": [
    "from sklearn.linear_model import RidgeCV, ElasticNet, LassoCV\n",
    "from sklearn.model_selection import cross_val_score\n",
    "import xgboost as xgb\n",
    "from sklearn.model_selection import RepeatedStratifiedKFold\n",
    "from sklearn.metrics import confusion_matrix "
   ]
  },
  {
   "cell_type": "code",
   "execution_count": 36,
   "id": "e52246f1",
   "metadata": {},
   "outputs": [
    {
     "name": "stdout",
     "output_type": "stream",
     "text": [
      "Accuracy: 0.922 (0.005)\n"
     ]
    }
   ],
   "source": [
    "model_xgb = xgb.XGBClassifier(n_estimators=100, max_depth=1, learning_rate=0.2, verbosity=1)\n",
    "\n",
    "cv = RepeatedStratifiedKFold(n_splits=5, random_state=12345)\n",
    "n_scores = cross_val_score(model_xgb, x_train, y_train[:,0], scoring='accuracy', cv=cv, error_score='raise')\n",
    "\n",
    "print('Accuracy: %.3f (%.3f)' % (np.mean(n_scores), np.std(n_scores)))"
   ]
  },
  {
   "cell_type": "code",
   "execution_count": 37,
   "id": "45427a0b",
   "metadata": {},
   "outputs": [],
   "source": [
    "model_xgb.fit(x_train, y_train[:,0])\n",
    "xgb_preds = model_xgb.predict(x_test)"
   ]
  },
  {
   "cell_type": "code",
   "execution_count": 38,
   "id": "e964da1d",
   "metadata": {},
   "outputs": [
    {
     "data": {
      "text/plain": [
       "0.9242797691432499"
      ]
     },
     "execution_count": 38,
     "metadata": {},
     "output_type": "execute_result"
    }
   ],
   "source": [
    "model_xgb.score(x_test, y_test[:,0])"
   ]
  },
  {
   "cell_type": "markdown",
   "id": "b7d7e057",
   "metadata": {},
   "source": [
    "First training"
   ]
  },
  {
   "cell_type": "code",
   "execution_count": 39,
   "id": "e42e431d",
   "metadata": {
    "scrolled": true
   },
   "outputs": [
    {
     "name": "stdout",
     "output_type": "stream",
     "text": [
      "\n",
      "Classification Report: \n",
      "              precision    recall  f1-score   support\n",
      "\n",
      "         0.0       0.93      0.97      0.95    348368\n",
      "         1.0       0.91      0.77      0.83    111311\n",
      "\n",
      "    accuracy                           0.92    459679\n",
      "   macro avg       0.92      0.87      0.89    459679\n",
      "weighted avg       0.92      0.92      0.92    459679\n",
      "\n",
      "\n",
      "Accuracy Score:  0.9242797691432499\n"
     ]
    }
   ],
   "source": [
    "print (\"\")\n",
    "print (\"Classification Report: \")\n",
    "print (classification_report(y_test[:,0], xgb_preds))\n",
    "\n",
    "print (\"\")\n",
    "print (\"Accuracy Score: \", accuracy_score(y_test[:,0], xgb_preds))"
   ]
  },
  {
   "cell_type": "code",
   "execution_count": 40,
   "id": "dd8061b7",
   "metadata": {},
   "outputs": [
    {
     "data": {
      "image/png": "[encoded data removed]",
      "text/plain": [
       "<Figure size 1200x1200 with 2 Axes>"
      ]
     },
     "metadata": {},
     "output_type": "display_data"
    }
   ],
   "source": [
    "LABELS = ['Benign', 'Attack'] \n",
    "conf_matrix = confusion_matrix(y_test[:,0], xgb_preds) \n",
    "plt.figure(figsize =(12, 12)) \n",
    "sns.heatmap(conf_matrix, xticklabels = LABELS,  \n",
    "            yticklabels = LABELS, annot = True, fmt =\"d\"); \n",
    "plt.title(\"Confusion matrix\") \n",
    "plt.ylabel('True class')\n",
    "plt.xlabel('Predicted class') \n",
    "plt.show()"
   ]
  },
  {
   "cell_type": "markdown",
   "id": "36013d31",
   "metadata": {},
   "source": [
    "Predict Attack Types"
   ]
  },
  {
   "cell_type": "code",
   "execution_count": 43,
   "id": "2c058392",
   "metadata": {},
   "outputs": [],
   "source": [
    "anomaly_pred_x = []\n",
    "anomaly_pred_labels = []\n",
    "predi = [] # doğru mu yanlış mı bildik kontrol\n",
    "for i in range(len(xgb_preds)):\n",
    "    if (xgb_preds[i]==y_test[i,0]) and (xgb_preds[i]==1):\n",
    "        anomaly_pred_x.append(x_test[i,:])\n",
    "        anomaly_pred_labels.append(y_test_labels[i])\n",
    "    if xgb_preds[i]==y_test[i,0]:\n",
    "        predi.append(1)\n",
    "    else:\n",
    "        predi.append(0)\n",
    "y_test = np.c_[y_test, predi] #1. sütun: 0-1 sınıflandırma, 2. sütun: 0-14 sınıflandırma, 3. sütun: predict doğruluğu\n",
    "pred_anomaly_x = np.array(anomaly_pred_x) #Test verisinde doğru bilinen anomalilerin x'leri\n",
    "pred_anomaly_y = np.array(anomaly_pred_labels)  #Test verisinde doğru bilinen anomalilerin y'leri"
   ]
  },
  {
   "cell_type": "code",
   "execution_count": 44,
   "id": "6b20143f",
   "metadata": {},
   "outputs": [
    {
     "data": {
      "text/plain": [
       "array([[0., 0., 1.],\n",
       "       [1., 2., 0.],\n",
       "       [0., 0., 1.],\n",
       "       ...,\n",
       "       [0., 0., 1.],\n",
       "       [0., 0., 0.],\n",
       "       [0., 0., 1.]])"
      ]
     },
     "execution_count": 44,
     "metadata": {},
     "output_type": "execute_result"
    }
   ],
   "source": [
    "print(y_test)"
   ]
  },
  {
   "cell_type": "code",
   "execution_count": 45,
   "id": "ba088ef3",
   "metadata": {},
   "outputs": [],
   "source": [
    "benign_toplam=0\n",
    "bot_toplam=0\n",
    "ddos_toplam=0\n",
    "dos_goldenEye_toplam=0\n",
    "dos_hulk_toplam=0\n",
    "dos_slowhttptest_toplam=0\n",
    "dos_slowloris_toplam=0\n",
    "ftp_patator_toplam=0\n",
    "heartbleed_toplam=0\n",
    "infiltration_toplam=0\n",
    "portScan_toplam=0\n",
    "ssh_patator_toplam=0\n",
    "brute_force_toplam=0\n",
    "sql_injection_toplam=0\n",
    "xss_toplam=0\n",
    "\n",
    "for i in range(len(y_test)):\n",
    "    statement=y_test[i,1]\n",
    "    if statement==0:\n",
    "        benign_toplam+=1\n",
    "    elif statement==1:\n",
    "        bot_toplam+=1\n",
    "    elif statement==2:\n",
    "        ddos_toplam+=1\n",
    "    elif statement==3:\n",
    "        dos_goldenEye_toplam+=1\n",
    "    elif statement==4:\n",
    "        dos_hulk_toplam+=1\n",
    "    elif statement==5:\n",
    "        dos_slowhttptest_toplam+=1\n",
    "    elif statement==6:\n",
    "        dos_slowloris_toplam+=1\n",
    "    elif statement==7:\n",
    "        ftp_patator_toplam+=1\n",
    "    elif statement==8:\n",
    "        heartbleed_toplam+=1\n",
    "    elif statement==9:\n",
    "        infiltration_toplam+=1\n",
    "    elif statement==10:\n",
    "        portScan_toplam+=1\n",
    "    elif statement==11:\n",
    "        ssh_patator_toplam+=1\n",
    "    elif statement==12:\n",
    "        brute_force_toplam+=1\n",
    "    elif statement==13:\n",
    "        sql_injection_toplam+=1\n",
    "    elif statement==14:\n",
    "        xss_toplam+=1"
   ]
  },
  {
   "cell_type": "code",
   "execution_count": 46,
   "id": "fbacb21d",
   "metadata": {},
   "outputs": [],
   "source": [
    "# Bu labela sahip kaç tane verinin anomali olup olmadığı doğru bilindiği sayısı tutuluyor\n",
    "benign=0\n",
    "bot=0\n",
    "ddos=0\n",
    "dos_goldenEye=0\n",
    "dos_hulk=0\n",
    "dos_slowhttptest=0\n",
    "dos_slowloris=0\n",
    "ftp_patator=0\n",
    "heartbleed=0\n",
    "infiltration=0\n",
    "portScan=0\n",
    "ssh_patator=0\n",
    "brute_force=0\n",
    "sql_injection=0\n",
    "xss=0\n",
    "\n",
    "for i in range(len(y_test)):\n",
    "    if y_test[i,2]==1:\n",
    "        statement=y_test[i,1]\n",
    "        if statement==0:\n",
    "            benign+=1\n",
    "        elif statement==1:\n",
    "            bot+=1\n",
    "        elif statement==2:\n",
    "            ddos+=1\n",
    "        elif statement==3:\n",
    "            dos_goldenEye+=1\n",
    "        elif statement==4:\n",
    "            dos_hulk+=1\n",
    "        elif statement==5:\n",
    "            dos_slowhttptest+=1\n",
    "        elif statement==6:\n",
    "            dos_slowloris+=1\n",
    "        elif statement==7:\n",
    "            ftp_patator+=1\n",
    "        elif statement==8:\n",
    "            heartbleed+=1\n",
    "        elif statement==9:\n",
    "            infiltration+=1\n",
    "        elif statement==10:\n",
    "            portScan+=1\n",
    "        elif statement==11:\n",
    "            ssh_patator+=1\n",
    "        elif statement==12:\n",
    "            brute_force+=1\n",
    "        elif statement==13:\n",
    "            sql_injection+=1\n",
    "        elif statement==14:\n",
    "            xss+=1"
   ]
  },
  {
   "cell_type": "code",
   "execution_count": 47,
   "id": "ffbeebb5",
   "metadata": {},
   "outputs": [
    {
     "name": "stdout",
     "output_type": "stream",
     "text": [
      "Benign :  97.42685895375006\n",
      "Bot :  1.7902813299232736\n",
      "DDos :  73.40363210310487\n",
      "Dos GoldenEye :  45.31325886352599\n",
      "Dos Hulk :  87.18522542096686\n",
      "Dos Slow HTTP Test :  17.0\n",
      "Dos SlowLoris :  1.8981880931837791\n",
      "FTP Patator :  0.2520478890989288\n",
      "Heartbleed :  100.0\n",
      "Infiltration :  0.0\n",
      "PortScan :  79.9250653316961\n",
      "SSH Patator :  0.4240882103477523\n",
      "Brute Force :  0.0\n",
      "SQL Injection :  0.0\n",
      "XSS :  0.7692307692307693\n"
     ]
    }
   ],
   "source": [
    "print(\"Benign : \",(benign/benign_toplam)*100)\n",
    "print(\"Bot : \",(bot/bot_toplam)*100)\n",
    "print(\"DDos : \",(ddos/ddos_toplam)*100)\n",
    "print(\"Dos GoldenEye : \",(dos_goldenEye/dos_goldenEye_toplam)*100)\n",
    "print(\"Dos Hulk : \",(dos_hulk/dos_hulk_toplam)*100)\n",
    "print(\"Dos Slow HTTP Test : \",(dos_slowhttptest/dos_slowhttptest_toplam)*100)\n",
    "print(\"Dos SlowLoris : \",(dos_slowloris/dos_slowloris_toplam)*100)\n",
    "print(\"FTP Patator : \",(ftp_patator/ftp_patator_toplam)*100)\n",
    "print(\"Heartbleed : \",(heartbleed/heartbleed_toplam)*100)\n",
    "print(\"Infiltration : \",(infiltration/infiltration_toplam)*100)\n",
    "print(\"PortScan : \",(portScan/portScan_toplam)*100)\n",
    "print(\"SSH Patator : \",(ssh_patator/ssh_patator_toplam)*100)\n",
    "print(\"Brute Force : \",(brute_force/brute_force_toplam)*100)\n",
    "print(\"SQL Injection : \",(sql_injection/sql_injection_toplam)*100)\n",
    "print(\"XSS : \",(xss/xss_toplam)*100)\n"
   ]
  },
  {
   "cell_type": "code",
   "execution_count": 48,
   "id": "8df4db18",
   "metadata": {},
   "outputs": [],
   "source": [
    "pred_anomaly_y = pred_anomaly_y.astype(int)"
   ]
  },
  {
   "cell_type": "code",
   "execution_count": 49,
   "id": "a673ae29",
   "metadata": {},
   "outputs": [
    {
     "data": {
      "text/plain": [
       "(array([ 1,  2,  3,  4,  5,  6,  7,  8, 10, 11, 14]),\n",
       " array([    7, 18795,   933, 40127,   187,    22,     4,     2, 25385,\n",
       "            5,     1]))"
      ]
     },
     "execution_count": 49,
     "metadata": {},
     "output_type": "execute_result"
    }
   ],
   "source": [
    "print(np.unique(pred_anomaly_y, return_counts=True))"
   ]
  },
  {
   "cell_type": "code",
   "execution_count": 50,
   "id": "94338725",
   "metadata": {
    "scrolled": true
   },
   "outputs": [
    {
     "data": {
      "text/plain": [
       "(array(['Bot', 'DDoS', 'DoS GoldenEye', 'DoS Hulk', 'DoS Slowhttptest',\n",
       "        'DoS slowloris', 'FTP-Patator', 'Heartbleed', 'PortScan',\n",
       "        'SSH-Patator', 'Web Attack � XSS'], dtype=object),\n",
       " array([    7, 18795,   933, 40127,   187,    22,     4,     2, 25385,\n",
       "            5,     1]))"
      ]
     },
     "execution_count": 50,
     "metadata": {},
     "output_type": "execute_result"
    }
   ],
   "source": [
    "a = le.inverse_transform(pred_anomaly_y)\n",
    "print(np.unique(a, return_counts=True))"
   ]
  },
  {
   "cell_type": "code",
   "execution_count": 51,
   "id": "73c7e132",
   "metadata": {},
   "outputs": [],
   "source": [
    "le2 = preprocessing.LabelEncoder() #Saldırılar 0'dan başlasın diye tekrar label encoder\n",
    "pred_anomaly_y = le2.fit_transform(a)"
   ]
  },
  {
   "cell_type": "code",
   "execution_count": 52,
   "id": "ed8a2e6e",
   "metadata": {},
   "outputs": [
    {
     "data": {
      "text/plain": [
       "(array([ 0,  1,  2,  3,  4,  5,  6,  7,  8,  9, 10]),\n",
       " array([    7, 18795,   933, 40127,   187,    22,     4,     2, 25385,\n",
       "            5,     1]))"
      ]
     },
     "execution_count": 52,
     "metadata": {},
     "output_type": "execute_result"
    }
   ],
   "source": [
    "print(np.unique(pred_anomaly_y, return_counts=True))"
   ]
  },
  {
   "cell_type": "code",
   "execution_count": 53,
   "id": "0fed8c8e",
   "metadata": {},
   "outputs": [
    {
     "data": {
      "text/plain": [
       "(array(['Bot', 'DDoS', 'DoS GoldenEye', 'DoS Hulk', 'DoS Slowhttptest',\n",
       "        'DoS slowloris', 'FTP-Patator', 'Heartbleed', 'PortScan',\n",
       "        'SSH-Patator', 'Web Attack � XSS'], dtype=object),\n",
       " array([    7, 18795,   933, 40127,   187,    22,     4,     2, 25385,\n",
       "            5,     1]))"
      ]
     },
     "execution_count": 53,
     "metadata": {},
     "output_type": "execute_result"
    }
   ],
   "source": [
    "z = le2.inverse_transform(pred_anomaly_y)\n",
    "print(np.unique(z, return_counts=True))"
   ]
  },
  {
   "cell_type": "code",
   "execution_count": 54,
   "id": "acbef8d4",
   "metadata": {},
   "outputs": [],
   "source": [
    "x_train2, x_test2, y_train2, y_test2 = train_test_split(pred_anomaly_x, pred_anomaly_y, \n",
    "                                                    test_size=0.20, \n",
    "                                                    random_state=12345)"
   ]
  },
  {
   "cell_type": "code",
   "execution_count": 55,
   "id": "26071673",
   "metadata": {},
   "outputs": [
    {
     "name": "stderr",
     "output_type": "stream",
     "text": [
      "/Users/boramert/opt/anaconda3/lib/python3.9/site-packages/sklearn/model_selection/_split.py:700: UserWarning: The least populated class in y has only 2 members, which is less than n_splits=5.\n",
      "  warnings.warn(\n",
      "/Users/boramert/opt/anaconda3/lib/python3.9/site-packages/sklearn/model_selection/_split.py:700: UserWarning: The least populated class in y has only 2 members, which is less than n_splits=5.\n",
      "  warnings.warn(\n",
      "/Users/boramert/opt/anaconda3/lib/python3.9/site-packages/sklearn/model_selection/_split.py:700: UserWarning: The least populated class in y has only 2 members, which is less than n_splits=5.\n",
      "  warnings.warn(\n",
      "/Users/boramert/opt/anaconda3/lib/python3.9/site-packages/sklearn/model_selection/_split.py:700: UserWarning: The least populated class in y has only 2 members, which is less than n_splits=5.\n",
      "  warnings.warn(\n",
      "/Users/boramert/opt/anaconda3/lib/python3.9/site-packages/sklearn/model_selection/_split.py:700: UserWarning: The least populated class in y has only 2 members, which is less than n_splits=5.\n",
      "  warnings.warn(\n",
      "/Users/boramert/opt/anaconda3/lib/python3.9/site-packages/sklearn/model_selection/_split.py:700: UserWarning: The least populated class in y has only 2 members, which is less than n_splits=5.\n",
      "  warnings.warn(\n",
      "/Users/boramert/opt/anaconda3/lib/python3.9/site-packages/sklearn/model_selection/_split.py:700: UserWarning: The least populated class in y has only 2 members, which is less than n_splits=5.\n",
      "  warnings.warn(\n",
      "/Users/boramert/opt/anaconda3/lib/python3.9/site-packages/sklearn/model_selection/_split.py:700: UserWarning: The least populated class in y has only 2 members, which is less than n_splits=5.\n",
      "  warnings.warn(\n",
      "/Users/boramert/opt/anaconda3/lib/python3.9/site-packages/sklearn/model_selection/_split.py:700: UserWarning: The least populated class in y has only 2 members, which is less than n_splits=5.\n",
      "  warnings.warn(\n",
      "/Users/boramert/opt/anaconda3/lib/python3.9/site-packages/sklearn/model_selection/_split.py:700: UserWarning: The least populated class in y has only 2 members, which is less than n_splits=5.\n",
      "  warnings.warn(\n"
     ]
    },
    {
     "name": "stdout",
     "output_type": "stream",
     "text": [
      "Accuracy: 0.979 (0.001)\n"
     ]
    }
   ],
   "source": [
    "attack_predictor = xgb.XGBClassifier(n_estimators=100, max_depth=1, learning_rate=0.2, verbosity=1)\n",
    "\n",
    "cv = RepeatedStratifiedKFold(n_splits=5, random_state=12345)\n",
    "n_scores = cross_val_score(attack_predictor, x_train2, y_train2, scoring='accuracy', cv=cv, error_score='raise')\n",
    "\n",
    "print('Accuracy: %.3f (%.3f)' % (np.mean(n_scores), np.std(n_scores)))"
   ]
  },
  {
   "cell_type": "code",
   "execution_count": 56,
   "id": "e95aa451",
   "metadata": {},
   "outputs": [],
   "source": [
    "attack_predictor.fit(x_train2, y_train2)\n",
    "attack_preds = attack_predictor.predict(x_test2)"
   ]
  },
  {
   "cell_type": "code",
   "execution_count": 57,
   "id": "62b80fe5",
   "metadata": {},
   "outputs": [
    {
     "data": {
      "text/plain": [
       "0.9785304785304785"
      ]
     },
     "execution_count": 57,
     "metadata": {},
     "output_type": "execute_result"
    }
   ],
   "source": [
    "attack_predictor.score(x_test2, y_test2)"
   ]
  },
  {
   "cell_type": "code",
   "execution_count": 58,
   "id": "343659d7",
   "metadata": {},
   "outputs": [
    {
     "name": "stdout",
     "output_type": "stream",
     "text": [
      "\n",
      "Classification Report: \n",
      "              precision    recall  f1-score   support\n",
      "\n",
      "           1       0.93      0.98      0.95      3763\n",
      "           2       0.98      0.97      0.98       187\n",
      "           3       0.99      0.97      0.98      7976\n",
      "           4       1.00      1.00      1.00        36\n",
      "           5       1.00      1.00      1.00         2\n",
      "           6       1.00      1.00      1.00         1\n",
      "           8       1.00      1.00      1.00      5126\n",
      "           9       0.00      0.00      0.00         2\n",
      "          10       0.00      0.00      0.00         1\n",
      "\n",
      "    accuracy                           0.98     17094\n",
      "   macro avg       0.77      0.77      0.77     17094\n",
      "weighted avg       0.98      0.98      0.98     17094\n",
      "\n",
      "\n",
      "Accuracy Score:  0.9785304785304785\n"
     ]
    },
    {
     "name": "stderr",
     "output_type": "stream",
     "text": [
      "/Users/boramert/opt/anaconda3/lib/python3.9/site-packages/sklearn/metrics/_classification.py:1344: UndefinedMetricWarning: Precision and F-score are ill-defined and being set to 0.0 in labels with no predicted samples. Use `zero_division` parameter to control this behavior.\n",
      "  _warn_prf(average, modifier, msg_start, len(result))\n",
      "/Users/boramert/opt/anaconda3/lib/python3.9/site-packages/sklearn/metrics/_classification.py:1344: UndefinedMetricWarning: Precision and F-score are ill-defined and being set to 0.0 in labels with no predicted samples. Use `zero_division` parameter to control this behavior.\n",
      "  _warn_prf(average, modifier, msg_start, len(result))\n",
      "/Users/boramert/opt/anaconda3/lib/python3.9/site-packages/sklearn/metrics/_classification.py:1344: UndefinedMetricWarning: Precision and F-score are ill-defined and being set to 0.0 in labels with no predicted samples. Use `zero_division` parameter to control this behavior.\n",
      "  _warn_prf(average, modifier, msg_start, len(result))\n"
     ]
    }
   ],
   "source": [
    "print (\"\")\n",
    "print (\"Classification Report: \")\n",
    "print (classification_report(y_test2, attack_preds))\n",
    "\n",
    "print (\"\")\n",
    "print (\"Accuracy Score: \", accuracy_score(y_test2, attack_preds))"
   ]
  },
  {
   "cell_type": "code",
   "execution_count": 61,
   "id": "00f867fa",
   "metadata": {
    "scrolled": false
   },
   "outputs": [
    {
     "data": {
      "image/png": "[encoded data removed]",
      "text/plain": [
       "<Figure size 1200x1200 with 2 Axes>"
      ]
     },
     "metadata": {},
     "output_type": "display_data"
    }
   ],
   "source": [
    "LABELS = ['Bot', 'DDoS', 'DoS GoldenEye', 'DoS Hulk', 'DoS Slowhttptest',\n",
    "        'DoS slowloris', 'FTP-Patator', 'Heartbleed', 'PortScan']\n",
    "conf_matrix = confusion_matrix(y_test2, attack_preds) \n",
    "plt.figure(figsize =(12, 12)) \n",
    "sns.heatmap(conf_matrix, xticklabels = LABELS,  \n",
    "            yticklabels = LABELS, annot = True, fmt =\"d\"); \n",
    "plt.title(\"Confusion matrix\") \n",
    "plt.ylabel('True class')\n",
    "plt.xlabel('Predicted class') \n",
    "plt.show()"
   ]
  },
  {
   "cell_type": "markdown",
   "id": "94df5a25",
   "metadata": {},
   "source": [
    "Extract the models"
   ]
  },
  {
   "cell_type": "code",
   "execution_count": 62,
   "id": "05196cd7",
   "metadata": {},
   "outputs": [],
   "source": [
    "import pickle"
   ]
  },
  {
   "cell_type": "code",
   "execution_count": 65,
   "id": "c0e7114d",
   "metadata": {},
   "outputs": [
    {
     "name": "stdout",
     "output_type": "stream",
     "text": [
      "INFO:tensorflow:Assets written to: ram://625cfaea-8738-4fa2-bbc5-8564d82dd49e/assets\n"
     ]
    }
   ],
   "source": [
    "pickle.dump(encoder, open(\"encoder.pkl\", \"wb\"))\n",
    "pickle.dump(model_xgb, open(\"first_predict.pkl\", \"wb\"))\n",
    "pickle.dump(attack_predictor, open(\"second_predict.pkl\", \"wb\"))"
   ]
  }
 ],
 "metadata": {
  "kernelspec": {
   "display_name": "tf2",
   "language": "python",
   "name": "tf2"
  },
  "language_info": {
   "codemirror_mode": {
    "name": "ipython",
    "version": 3
   },
   "file_extension": ".py",
   "mimetype": "text/x-python",
   "name": "python",
   "nbconvert_exporter": "python",
   "pygments_lexer": "ipython3",
   "version": "3.9.13"
  }
 },
 "nbformat": 4,
 "nbformat_minor": 5
}
