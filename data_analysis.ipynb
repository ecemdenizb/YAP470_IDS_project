{
 "cells": [
  {
   "cell_type": "code",
   "execution_count": 1,
   "id": "1b5ae81a",
   "metadata": {},
   "outputs": [],
   "source": [
    "import pandas as pd\n",
    "import numpy as np"
   ]
  },
  {
   "cell_type": "code",
   "execution_count": 2,
   "id": "0353f77d",
   "metadata": {},
   "outputs": [],
   "source": [
    "path=\"/Users/ecemdenizbabaoglan/Downloads/archive\""
   ]
  },
  {
   "cell_type": "code",
   "execution_count": 3,
   "id": "9dfffa53",
   "metadata": {},
   "outputs": [],
   "source": [
    "ds1_path=(path+\"/02-14-2018.csv\")"
   ]
  },
  {
   "cell_type": "code",
   "execution_count": 5,
   "id": "8360f45a",
   "metadata": {},
   "outputs": [],
   "source": [
    "ds1=pd.read_csv(ds1_path)"
   ]
  },
  {
   "cell_type": "code",
   "execution_count": 6,
   "id": "eb1400a5",
   "metadata": {},
   "outputs": [
    {
     "data": {
      "text/plain": [
       "<bound method DataFrame.info of          Dst Port  Protocol            Timestamp  Flow Duration  Tot Fwd Pkts  \\\n",
       "0               0         0  14/02/2018 08:31:01      112641719             3   \n",
       "1               0         0  14/02/2018 08:33:50      112641466             3   \n",
       "2               0         0  14/02/2018 08:36:39      112638623             3   \n",
       "3              22         6  14/02/2018 08:40:13        6453966            15   \n",
       "4              22         6  14/02/2018 08:40:23        8804066            14   \n",
       "...           ...       ...                  ...            ...           ...   \n",
       "1048570        80         6  14/02/2018 10:53:23       10156986             5   \n",
       "1048571        80         6  14/02/2018 10:53:33            117             2   \n",
       "1048572        80         6  14/02/2018 10:53:28        5095331             3   \n",
       "1048573        80         6  14/02/2018 10:53:28        5235511             3   \n",
       "1048574       443         6  14/02/2018 10:53:28        5807256             6   \n",
       "\n",
       "         Tot Bwd Pkts  TotLen Fwd Pkts  TotLen Bwd Pkts  Fwd Pkt Len Max  \\\n",
       "0                   0                0                0                0   \n",
       "1                   0                0                0                0   \n",
       "2                   0                0                0                0   \n",
       "3                  10             1239             2273              744   \n",
       "4                  11             1143             2209              744   \n",
       "...               ...              ...              ...              ...   \n",
       "1048570             5             1089             1923              587   \n",
       "1048571             0                0                0                0   \n",
       "1048572             1                0                0                0   \n",
       "1048573             1                0                0                0   \n",
       "1048574             4              327              145              245   \n",
       "\n",
       "         Fwd Pkt Len Min  ...  Fwd Seg Size Min  Active Mean  Active Std  \\\n",
       "0                      0  ...                 0          0.0         0.0   \n",
       "1                      0  ...                 0          0.0         0.0   \n",
       "2                      0  ...                 0          0.0         0.0   \n",
       "3                      0  ...                32          0.0         0.0   \n",
       "4                      0  ...                32          0.0         0.0   \n",
       "...                  ...  ...               ...          ...         ...   \n",
       "1048570                0  ...                20          0.0         0.0   \n",
       "1048571                0  ...                20          0.0         0.0   \n",
       "1048572                0  ...                20          0.0         0.0   \n",
       "1048573                0  ...                20          0.0         0.0   \n",
       "1048574                0  ...                20     291569.0         0.0   \n",
       "\n",
       "         Active Max  Active Min   Idle Mean    Idle Std  Idle Max  Idle Min  \\\n",
       "0                 0           0  56320859.5  139.300036  56320958  56320761   \n",
       "1                 0           0  56320733.0  114.551299  56320814  56320652   \n",
       "2                 0           0  56319311.5  301.934596  56319525  56319098   \n",
       "3                 0           0         0.0    0.000000         0         0   \n",
       "4                 0           0         0.0    0.000000         0         0   \n",
       "...             ...         ...         ...         ...       ...       ...   \n",
       "1048570           0           0         0.0    0.000000         0         0   \n",
       "1048571           0           0         0.0    0.000000         0         0   \n",
       "1048572           0           0         0.0    0.000000         0         0   \n",
       "1048573           0           0         0.0    0.000000         0         0   \n",
       "1048574      291569      291569   5515650.0    0.000000   5515650   5515650   \n",
       "\n",
       "          Label  \n",
       "0        Benign  \n",
       "1        Benign  \n",
       "2        Benign  \n",
       "3        Benign  \n",
       "4        Benign  \n",
       "...         ...  \n",
       "1048570  Benign  \n",
       "1048571  Benign  \n",
       "1048572  Benign  \n",
       "1048573  Benign  \n",
       "1048574  Benign  \n",
       "\n",
       "[1048575 rows x 80 columns]>"
      ]
     },
     "execution_count": 6,
     "metadata": {},
     "output_type": "execute_result"
    }
   ],
   "source": [
    "ds1.info"
   ]
  },
  {
   "cell_type": "code",
   "execution_count": 7,
   "id": "0cf2cb69",
   "metadata": {},
   "outputs": [
    {
     "data": {
      "text/plain": [
       "(1048575, 80)"
      ]
     },
     "execution_count": 7,
     "metadata": {},
     "output_type": "execute_result"
    }
   ],
   "source": [
    "ds1.shape"
   ]
  },
  {
   "cell_type": "code",
   "execution_count": 9,
   "id": "9969b6c6",
   "metadata": {},
   "outputs": [
    {
     "data": {
      "text/plain": [
       "Benign            667626\n",
       "FTP-BruteForce    193360\n",
       "SSH-Bruteforce    187589\n",
       "Name: Label, dtype: int64"
      ]
     },
     "execution_count": 9,
     "metadata": {},
     "output_type": "execute_result"
    }
   ],
   "source": [
    "ds1['Label'].value_counts()"
   ]
  },
  {
   "cell_type": "code",
   "execution_count": 12,
   "id": "b279832b",
   "metadata": {},
   "outputs": [],
   "source": [
    "ds2_path=(path+\"/02-15-2018.csv\")"
   ]
  },
  {
   "cell_type": "code",
   "execution_count": 13,
   "id": "bd3d5803",
   "metadata": {},
   "outputs": [],
   "source": [
    "ds2=pd.read_csv(ds2_path)"
   ]
  },
  {
   "cell_type": "code",
   "execution_count": 14,
   "id": "066151c6",
   "metadata": {},
   "outputs": [
    {
     "data": {
      "text/plain": [
       "Benign                   996077\n",
       "DoS attacks-GoldenEye     41508\n",
       "DoS attacks-Slowloris     10990\n",
       "Name: Label, dtype: int64"
      ]
     },
     "execution_count": 14,
     "metadata": {},
     "output_type": "execute_result"
    }
   ],
   "source": [
    "ds2['Label'].value_counts()"
   ]
  },
  {
   "cell_type": "code",
   "execution_count": 15,
   "id": "efaecaa4",
   "metadata": {},
   "outputs": [],
   "source": [
    "ds3_path=(path+\"/02-16-2018.csv\")"
   ]
  },
  {
   "cell_type": "code",
   "execution_count": 18,
   "id": "955f8f51",
   "metadata": {},
   "outputs": [],
   "source": [
    "ds3=pd.read_csv(ds3_path, low_memory=False)"
   ]
  },
  {
   "cell_type": "code",
   "execution_count": 19,
   "id": "368ad74a",
   "metadata": {},
   "outputs": [
    {
     "data": {
      "text/html": [
       "<div>\n",
       "<style scoped>\n",
       "    .dataframe tbody tr th:only-of-type {\n",
       "        vertical-align: middle;\n",
       "    }\n",
       "\n",
       "    .dataframe tbody tr th {\n",
       "        vertical-align: top;\n",
       "    }\n",
       "\n",
       "    .dataframe thead th {\n",
       "        text-align: right;\n",
       "    }\n",
       "</style>\n",
       "<table border=\"1\" class=\"dataframe\">\n",
       "  <thead>\n",
       "    <tr style=\"text-align: right;\">\n",
       "      <th></th>\n",
       "      <th>Dst Port</th>\n",
       "      <th>Protocol</th>\n",
       "      <th>Timestamp</th>\n",
       "      <th>Flow Duration</th>\n",
       "      <th>Tot Fwd Pkts</th>\n",
       "      <th>Tot Bwd Pkts</th>\n",
       "      <th>TotLen Fwd Pkts</th>\n",
       "      <th>TotLen Bwd Pkts</th>\n",
       "      <th>Fwd Pkt Len Max</th>\n",
       "      <th>Fwd Pkt Len Min</th>\n",
       "      <th>...</th>\n",
       "      <th>Fwd Seg Size Min</th>\n",
       "      <th>Active Mean</th>\n",
       "      <th>Active Std</th>\n",
       "      <th>Active Max</th>\n",
       "      <th>Active Min</th>\n",
       "      <th>Idle Mean</th>\n",
       "      <th>Idle Std</th>\n",
       "      <th>Idle Max</th>\n",
       "      <th>Idle Min</th>\n",
       "      <th>Label</th>\n",
       "    </tr>\n",
       "  </thead>\n",
       "  <tbody>\n",
       "    <tr>\n",
       "      <th>0</th>\n",
       "      <td>0</td>\n",
       "      <td>0</td>\n",
       "      <td>16/02/2018 08:27:23</td>\n",
       "      <td>112640768</td>\n",
       "      <td>3</td>\n",
       "      <td>0</td>\n",
       "      <td>0</td>\n",
       "      <td>0</td>\n",
       "      <td>0</td>\n",
       "      <td>0</td>\n",
       "      <td>...</td>\n",
       "      <td>0</td>\n",
       "      <td>0</td>\n",
       "      <td>0</td>\n",
       "      <td>0</td>\n",
       "      <td>0</td>\n",
       "      <td>56300000</td>\n",
       "      <td>138.5929291</td>\n",
       "      <td>56300000</td>\n",
       "      <td>56300000</td>\n",
       "      <td>Benign</td>\n",
       "    </tr>\n",
       "    <tr>\n",
       "      <th>1</th>\n",
       "      <td>0</td>\n",
       "      <td>0</td>\n",
       "      <td>16/02/2018 08:30:12</td>\n",
       "      <td>112641773</td>\n",
       "      <td>3</td>\n",
       "      <td>0</td>\n",
       "      <td>0</td>\n",
       "      <td>0</td>\n",
       "      <td>0</td>\n",
       "      <td>0</td>\n",
       "      <td>...</td>\n",
       "      <td>0</td>\n",
       "      <td>0</td>\n",
       "      <td>0</td>\n",
       "      <td>0</td>\n",
       "      <td>0</td>\n",
       "      <td>56300000</td>\n",
       "      <td>263.7508294</td>\n",
       "      <td>56300000</td>\n",
       "      <td>56300000</td>\n",
       "      <td>Benign</td>\n",
       "    </tr>\n",
       "    <tr>\n",
       "      <th>2</th>\n",
       "      <td>35605</td>\n",
       "      <td>6</td>\n",
       "      <td>16/02/2018 08:26:55</td>\n",
       "      <td>20784143</td>\n",
       "      <td>23</td>\n",
       "      <td>44</td>\n",
       "      <td>2416</td>\n",
       "      <td>1344</td>\n",
       "      <td>240</td>\n",
       "      <td>64</td>\n",
       "      <td>...</td>\n",
       "      <td>20</td>\n",
       "      <td>2624734</td>\n",
       "      <td>0</td>\n",
       "      <td>2624734</td>\n",
       "      <td>2624734</td>\n",
       "      <td>9058214</td>\n",
       "      <td>0</td>\n",
       "      <td>9058214</td>\n",
       "      <td>9058214</td>\n",
       "      <td>Benign</td>\n",
       "    </tr>\n",
       "    <tr>\n",
       "      <th>3</th>\n",
       "      <td>0</td>\n",
       "      <td>0</td>\n",
       "      <td>16/02/2018 08:33:01</td>\n",
       "      <td>112640836</td>\n",
       "      <td>3</td>\n",
       "      <td>0</td>\n",
       "      <td>0</td>\n",
       "      <td>0</td>\n",
       "      <td>0</td>\n",
       "      <td>0</td>\n",
       "      <td>...</td>\n",
       "      <td>0</td>\n",
       "      <td>0</td>\n",
       "      <td>0</td>\n",
       "      <td>0</td>\n",
       "      <td>0</td>\n",
       "      <td>56300000</td>\n",
       "      <td>82.02438662</td>\n",
       "      <td>56300000</td>\n",
       "      <td>56300000</td>\n",
       "      <td>Benign</td>\n",
       "    </tr>\n",
       "    <tr>\n",
       "      <th>4</th>\n",
       "      <td>23</td>\n",
       "      <td>6</td>\n",
       "      <td>16/02/2018 08:27:59</td>\n",
       "      <td>20</td>\n",
       "      <td>1</td>\n",
       "      <td>1</td>\n",
       "      <td>0</td>\n",
       "      <td>0</td>\n",
       "      <td>0</td>\n",
       "      <td>0</td>\n",
       "      <td>...</td>\n",
       "      <td>20</td>\n",
       "      <td>0</td>\n",
       "      <td>0</td>\n",
       "      <td>0</td>\n",
       "      <td>0</td>\n",
       "      <td>0</td>\n",
       "      <td>0</td>\n",
       "      <td>0</td>\n",
       "      <td>0</td>\n",
       "      <td>Benign</td>\n",
       "    </tr>\n",
       "  </tbody>\n",
       "</table>\n",
       "<p>5 rows × 80 columns</p>\n",
       "</div>"
      ],
      "text/plain": [
       "  Dst Port Protocol            Timestamp Flow Duration Tot Fwd Pkts  \\\n",
       "0        0        0  16/02/2018 08:27:23     112640768            3   \n",
       "1        0        0  16/02/2018 08:30:12     112641773            3   \n",
       "2    35605        6  16/02/2018 08:26:55      20784143           23   \n",
       "3        0        0  16/02/2018 08:33:01     112640836            3   \n",
       "4       23        6  16/02/2018 08:27:59            20            1   \n",
       "\n",
       "  Tot Bwd Pkts TotLen Fwd Pkts TotLen Bwd Pkts Fwd Pkt Len Max  \\\n",
       "0            0               0               0               0   \n",
       "1            0               0               0               0   \n",
       "2           44            2416            1344             240   \n",
       "3            0               0               0               0   \n",
       "4            1               0               0               0   \n",
       "\n",
       "  Fwd Pkt Len Min  ... Fwd Seg Size Min Active Mean Active Std Active Max  \\\n",
       "0               0  ...                0           0          0          0   \n",
       "1               0  ...                0           0          0          0   \n",
       "2              64  ...               20     2624734          0    2624734   \n",
       "3               0  ...                0           0          0          0   \n",
       "4               0  ...               20           0          0          0   \n",
       "\n",
       "  Active Min Idle Mean     Idle Std  Idle Max  Idle Min   Label  \n",
       "0          0  56300000  138.5929291  56300000  56300000  Benign  \n",
       "1          0  56300000  263.7508294  56300000  56300000  Benign  \n",
       "2    2624734   9058214            0   9058214   9058214  Benign  \n",
       "3          0  56300000  82.02438662  56300000  56300000  Benign  \n",
       "4          0         0            0         0         0  Benign  \n",
       "\n",
       "[5 rows x 80 columns]"
      ]
     },
     "execution_count": 19,
     "metadata": {},
     "output_type": "execute_result"
    }
   ],
   "source": [
    "ds3.head()"
   ]
  },
  {
   "cell_type": "code",
   "execution_count": 20,
   "id": "e38ace05",
   "metadata": {},
   "outputs": [
    {
     "data": {
      "text/plain": [
       "DoS attacks-Hulk            461912\n",
       "Benign                      446772\n",
       "DoS attacks-SlowHTTPTest    139890\n",
       "Label                            1\n",
       "Name: Label, dtype: int64"
      ]
     },
     "execution_count": 20,
     "metadata": {},
     "output_type": "execute_result"
    }
   ],
   "source": [
    "ds3['Label'].value_counts()"
   ]
  },
  {
   "cell_type": "code",
   "execution_count": 23,
   "id": "6f34b73b",
   "metadata": {},
   "outputs": [],
   "source": [
    "ds4_path=(path+\"/02-20-2018.csv\")"
   ]
  },
  {
   "cell_type": "code",
   "execution_count": 24,
   "id": "8d25687e",
   "metadata": {},
   "outputs": [],
   "source": [
    "ds4=pd.read_csv(ds4_path)"
   ]
  },
  {
   "cell_type": "code",
   "execution_count": 25,
   "id": "4b1dbbf4",
   "metadata": {},
   "outputs": [
    {
     "data": {
      "text/plain": [
       "Benign                    7372557\n",
       "DDoS attacks-LOIC-HTTP     576191\n",
       "Name: Label, dtype: int64"
      ]
     },
     "execution_count": 25,
     "metadata": {},
     "output_type": "execute_result"
    }
   ],
   "source": [
    "ds4['Label'].value_counts()"
   ]
  },
  {
   "cell_type": "code",
   "execution_count": 26,
   "id": "2c4f1825",
   "metadata": {},
   "outputs": [],
   "source": [
    "ds5_path=(path+\"/02-21-2018.csv\")"
   ]
  },
  {
   "cell_type": "code",
   "execution_count": 27,
   "id": "1b711327",
   "metadata": {},
   "outputs": [],
   "source": [
    "ds5=pd.read_csv(ds5_path)"
   ]
  },
  {
   "cell_type": "code",
   "execution_count": 28,
   "id": "866ee2bd",
   "metadata": {},
   "outputs": [
    {
     "data": {
      "text/plain": [
       "DDOS attack-HOIC        686012\n",
       "Benign                  360833\n",
       "DDOS attack-LOIC-UDP      1730\n",
       "Name: Label, dtype: int64"
      ]
     },
     "execution_count": 28,
     "metadata": {},
     "output_type": "execute_result"
    }
   ],
   "source": [
    "ds5['Label'].value_counts()"
   ]
  },
  {
   "cell_type": "code",
   "execution_count": 29,
   "id": "19ecb2b2",
   "metadata": {},
   "outputs": [],
   "source": [
    "ds6_path=(path+\"/02-22-2018.csv\")"
   ]
  },
  {
   "cell_type": "code",
   "execution_count": 30,
   "id": "e68dd06f",
   "metadata": {},
   "outputs": [],
   "source": [
    "ds6=pd.read_csv(ds6_path)"
   ]
  },
  {
   "cell_type": "code",
   "execution_count": 31,
   "id": "0f7faf84",
   "metadata": {},
   "outputs": [
    {
     "data": {
      "text/plain": [
       "Benign              1048213\n",
       "Brute Force -Web        249\n",
       "Brute Force -XSS         79\n",
       "SQL Injection            34\n",
       "Name: Label, dtype: int64"
      ]
     },
     "execution_count": 31,
     "metadata": {},
     "output_type": "execute_result"
    }
   ],
   "source": [
    "ds6['Label'].value_counts()"
   ]
  },
  {
   "cell_type": "code",
   "execution_count": 32,
   "id": "8b843e80",
   "metadata": {},
   "outputs": [],
   "source": [
    "ds7_path=(path+\"/02-23-2018.csv\")"
   ]
  },
  {
   "cell_type": "code",
   "execution_count": 33,
   "id": "acf575bd",
   "metadata": {},
   "outputs": [],
   "source": [
    "ds7=pd.read_csv(ds7_path)"
   ]
  },
  {
   "cell_type": "code",
   "execution_count": 34,
   "id": "1653f567",
   "metadata": {},
   "outputs": [
    {
     "data": {
      "text/plain": [
       "Benign              1048009\n",
       "Brute Force -Web        362\n",
       "Brute Force -XSS        151\n",
       "SQL Injection            53\n",
       "Name: Label, dtype: int64"
      ]
     },
     "execution_count": 34,
     "metadata": {},
     "output_type": "execute_result"
    }
   ],
   "source": [
    "ds7['Label'].value_counts()"
   ]
  },
  {
   "cell_type": "code",
   "execution_count": 35,
   "id": "0014e604",
   "metadata": {},
   "outputs": [],
   "source": [
    "ds8_path=(path+\"/02-28-2018.csv\")"
   ]
  },
  {
   "cell_type": "code",
   "execution_count": 37,
   "id": "a4a67fc3",
   "metadata": {},
   "outputs": [],
   "source": [
    "ds8=pd.read_csv(ds8_path, low_memory=False)"
   ]
  },
  {
   "cell_type": "code",
   "execution_count": 38,
   "id": "c410db04",
   "metadata": {},
   "outputs": [
    {
     "data": {
      "text/plain": [
       "Benign           544200\n",
       "Infilteration     68871\n",
       "Label                33\n",
       "Name: Label, dtype: int64"
      ]
     },
     "execution_count": 38,
     "metadata": {},
     "output_type": "execute_result"
    }
   ],
   "source": [
    "ds8['Label'].value_counts()"
   ]
  },
  {
   "cell_type": "code",
   "execution_count": 40,
   "id": "e0de0ba7",
   "metadata": {},
   "outputs": [],
   "source": [
    "ds9_path=(path+\"/03-01-2018.csv\")"
   ]
  },
  {
   "cell_type": "code",
   "execution_count": 42,
   "id": "6b535fd0",
   "metadata": {},
   "outputs": [],
   "source": [
    "ds9=pd.read_csv(ds9_path, low_memory=False)"
   ]
  },
  {
   "cell_type": "code",
   "execution_count": 43,
   "id": "6c68417d",
   "metadata": {},
   "outputs": [
    {
     "data": {
      "text/plain": [
       "Benign           238037\n",
       "Infilteration     93063\n",
       "Label                25\n",
       "Name: Label, dtype: int64"
      ]
     },
     "execution_count": 43,
     "metadata": {},
     "output_type": "execute_result"
    }
   ],
   "source": [
    "ds9['Label'].value_counts()"
   ]
  },
  {
   "cell_type": "code",
   "execution_count": 44,
   "id": "4e5c9fe1",
   "metadata": {},
   "outputs": [],
   "source": [
    "ds10_path=(path+\"/03-02-2018.csv\")"
   ]
  },
  {
   "cell_type": "code",
   "execution_count": 45,
   "id": "45d1db5b",
   "metadata": {},
   "outputs": [],
   "source": [
    "ds10=pd.read_csv(ds10_path)"
   ]
  },
  {
   "cell_type": "code",
   "execution_count": 46,
   "id": "16f25898",
   "metadata": {},
   "outputs": [
    {
     "data": {
      "text/plain": [
       "Benign    762384\n",
       "Bot       286191\n",
       "Name: Label, dtype: int64"
      ]
     },
     "execution_count": 46,
     "metadata": {},
     "output_type": "execute_result"
    }
   ],
   "source": [
    "ds10['Label'].value_counts()"
   ]
  },
  {
   "cell_type": "code",
   "execution_count": null,
   "id": "057d3e09",
   "metadata": {},
   "outputs": [],
   "source": []
  },
  {
   "cell_type": "code",
   "execution_count": null,
   "id": "0e13e098",
   "metadata": {},
   "outputs": [],
   "source": []
  },
  {
   "cell_type": "code",
   "execution_count": null,
   "id": "988f111c",
   "metadata": {},
   "outputs": [],
   "source": []
  },
  {
   "cell_type": "code",
   "execution_count": null,
   "id": "78310503",
   "metadata": {},
   "outputs": [],
   "source": []
  },
  {
   "cell_type": "code",
   "execution_count": null,
   "id": "8875152e",
   "metadata": {},
   "outputs": [],
   "source": []
  },
  {
   "cell_type": "code",
   "execution_count": null,
   "id": "5b3b4d43",
   "metadata": {},
   "outputs": [],
   "source": []
  },
  {
   "cell_type": "code",
   "execution_count": null,
   "id": "87053fad",
   "metadata": {},
   "outputs": [],
   "source": []
  },
  {
   "cell_type": "code",
   "execution_count": null,
   "id": "5654b20c",
   "metadata": {},
   "outputs": [],
   "source": []
  },
  {
   "cell_type": "code",
   "execution_count": null,
   "id": "c595b0b7",
   "metadata": {},
   "outputs": [],
   "source": []
  },
  {
   "cell_type": "code",
   "execution_count": null,
   "id": "0daf1a39",
   "metadata": {},
   "outputs": [],
   "source": []
  },
  {
   "cell_type": "code",
   "execution_count": null,
   "id": "4da1faa3",
   "metadata": {},
   "outputs": [],
   "source": []
  },
  {
   "cell_type": "code",
   "execution_count": null,
   "id": "0f2982eb",
   "metadata": {},
   "outputs": [],
   "source": []
  },
  {
   "cell_type": "code",
   "execution_count": null,
   "id": "ddf7121a",
   "metadata": {},
   "outputs": [],
   "source": []
  },
  {
   "cell_type": "code",
   "execution_count": null,
   "id": "b0418e99",
   "metadata": {},
   "outputs": [],
   "source": []
  }
 ],
 "metadata": {
  "kernelspec": {
   "display_name": "Python 3 (ipykernel)",
   "language": "python",
   "name": "python3"
  },
  "language_info": {
   "codemirror_mode": {
    "name": "ipython",
    "version": 3
   },
   "file_extension": ".py",
   "mimetype": "text/x-python",
   "name": "python",
   "nbconvert_exporter": "python",
   "pygments_lexer": "ipython3",
   "version": "3.9.12"
  }
 },
 "nbformat": 4,
 "nbformat_minor": 5
}
