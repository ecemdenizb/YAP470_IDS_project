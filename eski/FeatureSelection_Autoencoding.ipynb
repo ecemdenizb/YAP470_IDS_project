{
 "cells": [
  {
   "cell_type": "code",
   "execution_count": 70,
   "id": "258f9f37",
   "metadata": {},
   "outputs": [],
   "source": [
    "import numpy as np\n",
    "import pandas as pd\n",
    "from sklearn.model_selection import train_test_split\n",
    "import tensorflow as tf\n",
    "from tensorflow.keras import layers, losses\n",
    "from sklearn.metrics import classification_report\n",
    "from sklearn.svm import LinearSVC\n",
    "from sklearn.feature_selection import SelectFromModel"
   ]
  },
  {
   "cell_type": "code",
   "execution_count": 71,
   "id": "bf31bde1",
   "metadata": {},
   "outputs": [],
   "source": [
    "pd.set_option(\"display.max_rows\", None,\n",
    "             \"display.max_columns\", None)"
   ]
  },
  {
   "cell_type": "code",
   "execution_count": 72,
   "id": "65318ad7",
   "metadata": {},
   "outputs": [],
   "source": [
    "dataset = pd.read_csv(\"/Users/boramert/Desktop/Code/bil570proje/archive/dataset_scaled.csv\")"
   ]
  },
  {
   "cell_type": "code",
   "execution_count": 73,
   "id": "ced47390",
   "metadata": {},
   "outputs": [],
   "source": [
    "labels = dataset['Label']\n",
    "data = dataset.loc[:, dataset.columns != 'Label']"
   ]
  },
  {
   "cell_type": "code",
   "execution_count": 74,
   "id": "3c9a67e3",
   "metadata": {
    "scrolled": true
   },
   "outputs": [
    {
     "name": "stderr",
     "output_type": "stream",
     "text": [
      "/var/folders/yp/77nk0s9n13j86csgylsrrlph0000gn/T/ipykernel_1057/4164787005.py:1: SettingWithCopyWarning: \n",
      "A value is trying to be set on a copy of a slice from a DataFrame\n",
      "\n",
      "See the caveats in the documentation: https://pandas.pydata.org/pandas-docs/stable/user_guide/indexing.html#returning-a-view-versus-a-copy\n",
      "  labels.loc[labels != 0] = 1\n"
     ]
    }
   ],
   "source": [
    "labels.loc[labels != 0] = 1"
   ]
  },
  {
   "cell_type": "code",
   "execution_count": 75,
   "id": "d5702489",
   "metadata": {},
   "outputs": [
    {
     "data": {
      "text/plain": [
       "0    837030\n",
       "1    212970\n",
       "Name: Label, dtype: int64"
      ]
     },
     "execution_count": 75,
     "metadata": {},
     "output_type": "execute_result"
    }
   ],
   "source": [
    "labels.value_counts()"
   ]
  },
  {
   "cell_type": "code",
   "execution_count": 76,
   "id": "8f0210ad",
   "metadata": {},
   "outputs": [],
   "source": [
    "lsvc = LinearSVC(C=0.01, penalty=\"l1\", dual=False).fit(data, labels)"
   ]
  },
  {
   "cell_type": "code",
   "execution_count": 77,
   "id": "e3dfc77f",
   "metadata": {},
   "outputs": [],
   "source": [
    "model = SelectFromModel(lsvc, prefit=True)"
   ]
  },
  {
   "cell_type": "code",
   "execution_count": 78,
   "id": "cc74bdd5",
   "metadata": {},
   "outputs": [
    {
     "name": "stderr",
     "output_type": "stream",
     "text": [
      "/Users/boramert/opt/anaconda3/lib/python3.9/site-packages/sklearn/base.py:443: UserWarning: X has feature names, but SelectFromModel was fitted without feature names\n",
      "  warnings.warn(\n"
     ]
    },
    {
     "data": {
      "text/plain": [
       "(1050000, 64)"
      ]
     },
     "execution_count": 78,
     "metadata": {},
     "output_type": "execute_result"
    }
   ],
   "source": [
    "data = model.transform(data)\n",
    "data.shape"
   ]
  },
  {
   "cell_type": "code",
   "execution_count": 79,
   "id": "077f29e9",
   "metadata": {},
   "outputs": [
    {
     "name": "stdout",
     "output_type": "stream",
     "text": [
      "(1050000, 64)\n",
      "(1050000,)\n",
      "0    837030\n",
      "1    212970\n",
      "Name: Label, dtype: int64\n"
     ]
    }
   ],
   "source": [
    "print(data.shape)\n",
    "print(labels.shape)\n",
    "print(labels.value_counts())"
   ]
  },
  {
   "cell_type": "code",
   "execution_count": 80,
   "id": "81a6481e",
   "metadata": {},
   "outputs": [
    {
     "name": "stdout",
     "output_type": "stream",
     "text": [
      "Train Size\n",
      "840000\n",
      "Test Size\n",
      "210000\n"
     ]
    }
   ],
   "source": [
    "x_train, x_test, y_train, y_test = train_test_split(data, labels, test_size = 0.2, random_state = 12345)\n",
    "print('Train Size')\n",
    "print(x_train.shape[0])\n",
    "print('Test Size')\n",
    "print(x_test.shape[0])"
   ]
  },
  {
   "cell_type": "code",
   "execution_count": 81,
   "id": "6768600a",
   "metadata": {},
   "outputs": [],
   "source": [
    "x_train_benign = x_train[y_train == 0]"
   ]
  },
  {
   "cell_type": "code",
   "execution_count": 82,
   "id": "10de2099",
   "metadata": {},
   "outputs": [
    {
     "data": {
      "text/plain": [
       "(669456, 64)"
      ]
     },
     "execution_count": 82,
     "metadata": {},
     "output_type": "execute_result"
    }
   ],
   "source": [
    "x_train_benign.shape"
   ]
  },
  {
   "cell_type": "code",
   "execution_count": 98,
   "id": "05f8309d",
   "metadata": {},
   "outputs": [],
   "source": [
    "input = tf.keras.layers.Input(shape=(64,))"
   ]
  },
  {
   "cell_type": "code",
   "execution_count": 99,
   "id": "9794a4a2",
   "metadata": {},
   "outputs": [],
   "source": [
    "encoder = tf.keras.Sequential([\n",
    "    layers.Dense(40, activation='relu'),\n",
    "    layers.Dense(20, activation='relu'),\n",
    "    layers.Dense(10, activation='relu')])(input)"
   ]
  },
  {
   "cell_type": "code",
   "execution_count": 100,
   "id": "972d1e4f",
   "metadata": {},
   "outputs": [],
   "source": [
    "decoder = tf.keras.Sequential([\n",
    "    layers.Dense(20, activation='relu'),\n",
    "    layers.Dense(40, activation='relu'),\n",
    "    layers.Dense(64, activation='sigmoid')])(encoder)"
   ]
  },
  {
   "cell_type": "code",
   "execution_count": 101,
   "id": "5956d447",
   "metadata": {},
   "outputs": [],
   "source": [
    "autoencoder = tf.keras.Model(inputs=input, outputs=decoder)"
   ]
  },
  {
   "cell_type": "code",
   "execution_count": 102,
   "id": "ab167568",
   "metadata": {},
   "outputs": [],
   "source": [
    "autoencoder.compile(optimizer='adam', loss='mae', metrics = 'accuracy')"
   ]
  },
  {
   "cell_type": "code",
   "execution_count": 103,
   "id": "bc99af6d",
   "metadata": {
    "scrolled": false
   },
   "outputs": [
    {
     "name": "stdout",
     "output_type": "stream",
     "text": [
      "Epoch 1/20\n",
      "6695/6695 [==============================] - 7s 937us/step - loss: 0.4213 - accuracy: 0.0491 - val_loss: 0.4144 - val_accuracy: 0.1194\n",
      "Epoch 2/20\n",
      "6695/6695 [==============================] - 6s 906us/step - loss: 0.4100 - accuracy: 0.0656 - val_loss: 0.4110 - val_accuracy: 0.1241\n",
      "Epoch 3/20\n",
      "6695/6695 [==============================] - 6s 955us/step - loss: 0.4070 - accuracy: 0.0710 - val_loss: 0.4091 - val_accuracy: 0.1258\n",
      "Epoch 4/20\n",
      "6695/6695 [==============================] - 6s 933us/step - loss: 0.4049 - accuracy: 0.0746 - val_loss: 0.4087 - val_accuracy: 0.1276\n",
      "Epoch 5/20\n",
      "6695/6695 [==============================] - 6s 906us/step - loss: 0.4046 - accuracy: 0.0753 - val_loss: 0.4081 - val_accuracy: 0.1239\n",
      "Epoch 6/20\n",
      "6695/6695 [==============================] - 6s 895us/step - loss: 0.4038 - accuracy: 0.0727 - val_loss: 0.4068 - val_accuracy: 0.1290\n",
      "Epoch 7/20\n",
      "6695/6695 [==============================] - 6s 922us/step - loss: 0.4018 - accuracy: 0.0750 - val_loss: 0.4037 - val_accuracy: 0.1299\n",
      "Epoch 8/20\n",
      "6695/6695 [==============================] - 6s 946us/step - loss: 0.3997 - accuracy: 0.0742 - val_loss: 0.4034 - val_accuracy: 0.1253\n",
      "Epoch 9/20\n",
      "6695/6695 [==============================] - 6s 918us/step - loss: 0.3987 - accuracy: 0.0709 - val_loss: 0.4022 - val_accuracy: 0.1241\n",
      "Epoch 10/20\n",
      "6695/6695 [==============================] - 7s 1ms/step - loss: 0.3983 - accuracy: 0.0699 - val_loss: 0.4019 - val_accuracy: 0.1230\n",
      "Epoch 11/20\n",
      "6695/6695 [==============================] - 7s 1ms/step - loss: 0.3981 - accuracy: 0.0693 - val_loss: 0.4017 - val_accuracy: 0.1250\n",
      "Epoch 12/20\n",
      "6695/6695 [==============================] - 6s 937us/step - loss: 0.3977 - accuracy: 0.0715 - val_loss: 0.4013 - val_accuracy: 0.1264\n",
      "Epoch 13/20\n",
      "6695/6695 [==============================] - 6s 950us/step - loss: 0.3975 - accuracy: 0.0735 - val_loss: 0.4010 - val_accuracy: 0.1273\n",
      "Epoch 14/20\n",
      "6695/6695 [==============================] - 7s 980us/step - loss: 0.3970 - accuracy: 0.0703 - val_loss: 0.4003 - val_accuracy: 0.1233\n",
      "Epoch 15/20\n",
      "6695/6695 [==============================] - 6s 894us/step - loss: 0.3967 - accuracy: 0.0697 - val_loss: 0.4002 - val_accuracy: 0.1238\n",
      "Epoch 16/20\n",
      "6695/6695 [==============================] - 6s 926us/step - loss: 0.3966 - accuracy: 0.0703 - val_loss: 0.3996 - val_accuracy: 0.1239\n",
      "Epoch 17/20\n",
      "6695/6695 [==============================] - 6s 897us/step - loss: 0.3965 - accuracy: 0.0703 - val_loss: 0.3996 - val_accuracy: 0.1248\n",
      "Epoch 18/20\n",
      "6695/6695 [==============================] - 6s 903us/step - loss: 0.3964 - accuracy: 0.0713 - val_loss: 0.3990 - val_accuracy: 0.1256\n",
      "Epoch 19/20\n",
      "6695/6695 [==============================] - 6s 898us/step - loss: 0.3964 - accuracy: 0.0720 - val_loss: 0.3991 - val_accuracy: 0.1260\n",
      "Epoch 20/20\n",
      "6695/6695 [==============================] - 6s 903us/step - loss: 0.3963 - accuracy: 0.0734 - val_loss: 0.3991 - val_accuracy: 0.1262\n"
     ]
    }
   ],
   "source": [
    "history = autoencoder.fit(x_train_benign, x_train_benign,\n",
    "                         epochs = 20,\n",
    "                         batch_size=100,\n",
    "                         validation_data=(x_test,x_test),\n",
    "                         shuffle=True)"
   ]
  },
  {
   "cell_type": "code",
   "execution_count": null,
   "id": "26ded2f8",
   "metadata": {},
   "outputs": [],
   "source": []
  }
 ],
 "metadata": {
  "kernelspec": {
   "display_name": "Python 3 (ipykernel)",
   "language": "python",
   "name": "python3"
  },
  "language_info": {
   "codemirror_mode": {
    "name": "ipython",
    "version": 3
   },
   "file_extension": ".py",
   "mimetype": "text/x-python",
   "name": "python",
   "nbconvert_exporter": "python",
   "pygments_lexer": "ipython3",
   "version": "3.9.13"
  }
 },
 "nbformat": 4,
 "nbformat_minor": 5
}
