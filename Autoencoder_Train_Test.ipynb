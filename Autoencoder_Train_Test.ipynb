{
 "cells": [
  {
   "cell_type": "code",
   "execution_count": 1,
   "id": "af28c3c4",
   "metadata": {},
   "outputs": [
    {
     "data": {
      "text/plain": [
       "['Name: scikit-learn',\n",
       " 'Version: 1.2.0',\n",
       " 'Summary: A set of python modules for machine learning and data mining',\n",
       " 'Home-page: http://scikit-learn.org',\n",
       " 'Author: ',\n",
       " 'Author-email: ',\n",
       " 'License: new BSD',\n",
       " 'Location: /Users/boramert/opt/anaconda3/lib/python3.9/site-packages',\n",
       " 'Requires: joblib, numpy, scipy, threadpoolctl',\n",
       " 'Required-by: pyod, scikit-learn-intelex']"
      ]
     },
     "execution_count": 1,
     "metadata": {},
     "output_type": "execute_result"
    }
   ],
   "source": [
    "!!pip show scikit-learn"
   ]
  },
  {
   "cell_type": "code",
   "execution_count": 2,
   "id": "5dd79cab",
   "metadata": {},
   "outputs": [],
   "source": [
    "import sys\n",
    "sys.path.append('/Users/boramert/opt/anaconda3/lib/python3.9/site-packages')"
   ]
  },
  {
   "cell_type": "code",
   "execution_count": 3,
   "id": "9ec032c4",
   "metadata": {},
   "outputs": [
    {
     "name": "stderr",
     "output_type": "stream",
     "text": [
      "/Users/boramert/opt/anaconda3/envs/tf2/lib/python3.9/site-packages/scipy/__init__.py:146: UserWarning: A NumPy version >=1.16.5 and <1.23.0 is required for this version of SciPy (detected version 1.23.3\n",
      "  warnings.warn(f\"A NumPy version >={np_minversion} and <{np_maxversion}\"\n"
     ]
    }
   ],
   "source": [
    "import pandas as pd\n",
    "import numpy as np\n",
    "\n",
    "import tensorflow as tf\n",
    "from tensorflow.keras import layers, losses\n",
    "from tensorflow.keras.models import Model\n",
    "\n",
    "from sklearn.metrics import accuracy_score, precision_score, recall_score, confusion_matrix\n",
    "from sklearn.model_selection import train_test_split\n",
    "from sklearn import preprocessing"
   ]
  },
  {
   "cell_type": "code",
   "execution_count": 4,
   "id": "2c5a808d",
   "metadata": {},
   "outputs": [],
   "source": [
    "def labelencoder(ds):\n",
    "    encoded_ds=ds.copy()\n",
    "    le = preprocessing.LabelEncoder()\n",
    "    for col in encoded_ds.select_dtypes(include=['object']).columns:\n",
    "        encoded_ds[col]=le.fit_transform(encoded_ds[col])\n",
    "    \n",
    "    return encoded_ds\n",
    "\n",
    "def encoding_for_anomalous(ds):\n",
    "    encoded_ds=ds.copy()\n",
    "    for i in range(len(ds)):\n",
    "        if encoded_ds.iloc[i]=='BENIGN':\n",
    "            encoded_ds.iloc[i]= 0\n",
    "        else:\n",
    "            encoded_ds.iloc[i]= 1\n",
    "            \n",
    "    return encoded_ds  \n",
    "\n",
    "def scaling(ds):\n",
    "    scaler=preprocessing.StandardScaler()\n",
    "    scaled_ds=scaler.fit_transform(ds)\n",
    "    return scaled_ds\n",
    "\n",
    "def drop_infs(ds):\n",
    "    ds.replace([np.inf, -np.inf], np.nan, inplace=True)\n",
    "    ds.dropna(how='any', inplace=True)\n",
    "    return ds"
   ]
  },
  {
   "cell_type": "code",
   "execution_count": 5,
   "id": "42d415a8",
   "metadata": {},
   "outputs": [],
   "source": [
    "pd.set_option(\"display.max_rows\", None,\n",
    "             \"display.max_columns\", None)"
   ]
  },
  {
   "cell_type": "code",
   "execution_count": 6,
   "id": "0ee1344d",
   "metadata": {},
   "outputs": [],
   "source": [
    "PATH=\"MachineLearningCVE/Monday-WorkingHours.pcap_ISCX.csv\"\n",
    "normal_ds=pd.read_csv(PATH)"
   ]
  },
  {
   "cell_type": "code",
   "execution_count": 7,
   "id": "51524fc7",
   "metadata": {},
   "outputs": [],
   "source": [
    "normal_ds=drop_infs(normal_ds)\n",
    "normal_ds=labelencoder(normal_ds)\n",
    "normal_y_train=normal_ds[' Label']\n",
    "normal_x_train=normal_ds.drop(' Label', axis=1) #Label'ı yani y'yi dropluyoruz\n",
    "normal_x_train=scaling(normal_x_train)"
   ]
  },
  {
   "cell_type": "code",
   "execution_count": 8,
   "id": "f5b767c7",
   "metadata": {},
   "outputs": [],
   "source": [
    "test_ds=pd.read_csv(\"test_dataset.csv\")"
   ]
  },
  {
   "cell_type": "code",
   "execution_count": 9,
   "id": "831ad2f5",
   "metadata": {},
   "outputs": [],
   "source": [
    "test_ds=drop_infs(test_ds)\n",
    "y_test=test_ds[' Label']\n",
    "x_test=test_ds.drop(' Label', axis=1)\n",
    "x_test=scaling(x_test)"
   ]
  },
  {
   "cell_type": "code",
   "execution_count": 10,
   "id": "28f710da",
   "metadata": {},
   "outputs": [
    {
     "data": {
      "text/plain": [
       "0    1741839\n",
       "1     556556\n",
       "Name:  Label, dtype: int64"
      ]
     },
     "execution_count": 10,
     "metadata": {},
     "output_type": "execute_result"
    }
   ],
   "source": [
    "y_test.value_counts()"
   ]
  },
  {
   "cell_type": "code",
   "execution_count": 11,
   "id": "169cc6b8",
   "metadata": {},
   "outputs": [
    {
     "name": "stderr",
     "output_type": "stream",
     "text": [
      "2022-12-12 23:40:47.900619: I tensorflow/core/platform/cpu_feature_guard.cc:193] This TensorFlow binary is optimized with oneAPI Deep Neural Network Library (oneDNN) to use the following CPU instructions in performance-critical operations:  SSE4.1 SSE4.2\n",
      "To enable them in other operations, rebuild TensorFlow with the appropriate compiler flags.\n"
     ]
    }
   ],
   "source": [
    "normal_x_train = np.asarray(normal_x_train).astype(np.float32)\n",
    "x_test = np.asarray(x_test).astype(np.float32)\n",
    "\n",
    "normal_x_train = tf.cast(normal_x_train, tf.float32)\n",
    "x_test = tf.cast(x_test, tf.float32)"
   ]
  },
  {
   "cell_type": "code",
   "execution_count": 12,
   "id": "7ea60460",
   "metadata": {},
   "outputs": [],
   "source": [
    "input = tf.keras.layers.Input(shape=(78,))"
   ]
  },
  {
   "cell_type": "code",
   "execution_count": 13,
   "id": "da3f0bf7",
   "metadata": {},
   "outputs": [],
   "source": [
    "encoder = tf.keras.Sequential([\n",
    "    layers.Dense(32, activation='relu'),\n",
    "    layers.Dense(16, activation='relu'),\n",
    "    layers.Dense(8, activation='relu')])(input)\n",
    "\n",
    "decoder = tf.keras.Sequential([\n",
    "    layers.Dense(16, activation='relu'),\n",
    "    layers.Dense(32, activation='relu'),\n",
    "    layers.Dense(78, activation='sigmoid')])(encoder)"
   ]
  },
  {
   "cell_type": "code",
   "execution_count": 14,
   "id": "d0915976",
   "metadata": {},
   "outputs": [],
   "source": [
    "autoencoder = tf.keras.Model(inputs=input, outputs=decoder)"
   ]
  },
  {
   "cell_type": "code",
   "execution_count": 15,
   "id": "e726da5b",
   "metadata": {},
   "outputs": [],
   "source": [
    "autoencoder.compile(optimizer='adam', loss='mae')"
   ]
  },
  {
   "cell_type": "code",
   "execution_count": 16,
   "id": "4fefa7a7",
   "metadata": {},
   "outputs": [
    {
     "name": "stdout",
     "output_type": "stream",
     "text": [
      "Epoch 1/10\n",
      "8274/8274 [==============================] - 21s 2ms/step - loss: 0.2956 - val_loss: 0.3020\n",
      "Epoch 2/10\n",
      "8274/8274 [==============================] - 22s 3ms/step - loss: 0.2835 - val_loss: 0.3016\n",
      "Epoch 3/10\n",
      "8274/8274 [==============================] - 20s 2ms/step - loss: 0.2819 - val_loss: 0.2999\n",
      "Epoch 4/10\n",
      "8274/8274 [==============================] - 20s 2ms/step - loss: 0.2806 - val_loss: 0.2996\n",
      "Epoch 5/10\n",
      "8274/8274 [==============================] - 20s 2ms/step - loss: 0.2804 - val_loss: 0.2987\n",
      "Epoch 6/10\n",
      "8274/8274 [==============================] - 20s 2ms/step - loss: 0.2802 - val_loss: 0.2989\n",
      "Epoch 7/10\n",
      "8274/8274 [==============================] - 20s 2ms/step - loss: 0.2801 - val_loss: 0.2983\n",
      "Epoch 8/10\n",
      "8274/8274 [==============================] - 20s 2ms/step - loss: 0.2800 - val_loss: 0.2979\n",
      "Epoch 9/10\n",
      "8274/8274 [==============================] - 20s 2ms/step - loss: 0.2799 - val_loss: 0.2981\n",
      "Epoch 10/10\n",
      "8274/8274 [==============================] - 20s 2ms/step - loss: 0.2798 - val_loss: 0.2974\n"
     ]
    }
   ],
   "source": [
    "history = autoencoder.fit(normal_x_train, normal_x_train, \n",
    "          epochs=10, \n",
    "          batch_size=64,\n",
    "          validation_data=(x_test, x_test),\n",
    "          shuffle=True)"
   ]
  },
  {
   "cell_type": "code",
   "execution_count": 17,
   "id": "facd023b",
   "metadata": {},
   "outputs": [
    {
     "name": "stdout",
     "output_type": "stream",
     "text": [
      "16547/16547 [==============================] - 6s 370us/step\n"
     ]
    }
   ],
   "source": [
    "reconstructions = autoencoder.predict(normal_x_train)\n",
    "train_loss = tf.keras.losses.mae(reconstructions, normal_x_train)"
   ]
  },
  {
   "cell_type": "code",
   "execution_count": 18,
   "id": "31d952c8",
   "metadata": {},
   "outputs": [
    {
     "name": "stdout",
     "output_type": "stream",
     "text": [
      "Threshold:  0.49923417\n"
     ]
    }
   ],
   "source": [
    "threshold = np.mean(train_loss) + np.std(train_loss)\n",
    "print(\"Threshold: \", threshold)"
   ]
  },
  {
   "cell_type": "code",
   "execution_count": 19,
   "id": "c5f5462e",
   "metadata": {},
   "outputs": [],
   "source": [
    "def predict(model, data, threshold):\n",
    "  reconstructions = model(data)\n",
    "  loss = tf.keras.losses.mae(reconstructions, data)\n",
    "  return tf.math.less(loss, threshold)\n",
    "\n",
    "def print_stats(predictions, labels):\n",
    "  print(\"Accuracy = {}\".format(accuracy_score(labels, predictions)))\n",
    "  print(\"Precision = {}\".format(precision_score(labels, predictions)))\n",
    "  print(\"Recall = {}\".format(recall_score(labels, predictions)))"
   ]
  },
  {
   "cell_type": "code",
   "execution_count": 20,
   "id": "439d277e",
   "metadata": {},
   "outputs": [
    {
     "name": "stdout",
     "output_type": "stream",
     "text": [
      "Accuracy = 0.2087369664483259\n",
      "Precision = 0.19605112764716395\n",
      "Recall = 0.7313352115510389\n"
     ]
    }
   ],
   "source": [
    "preds = predict(autoencoder, x_test, threshold)\n",
    "print_stats(preds, y_test.astype(bool))"
   ]
  },
  {
   "cell_type": "code",
   "execution_count": 24,
   "id": "b0faec6b",
   "metadata": {},
   "outputs": [
    {
     "data": {
      "text/plain": [
       "array([[  72731, 1669108],\n",
       "       [ 149527,  407029]])"
      ]
     },
     "execution_count": 24,
     "metadata": {},
     "output_type": "execute_result"
    }
   ],
   "source": [
    "confusion_matrix(y_test.astype(bool), preds)"
   ]
  },
  {
   "cell_type": "code",
   "execution_count": null,
   "id": "4e2316a9",
   "metadata": {},
   "outputs": [],
   "source": []
  }
 ],
 "metadata": {
  "kernelspec": {
   "display_name": "tf2",
   "language": "python",
   "name": "tf2"
  },
  "language_info": {
   "codemirror_mode": {
    "name": "ipython",
    "version": 3
   },
   "file_extension": ".py",
   "mimetype": "text/x-python",
   "name": "python",
   "nbconvert_exporter": "python",
   "pygments_lexer": "ipython3",
   "version": "3.9.13"
  }
 },
 "nbformat": 4,
 "nbformat_minor": 5
}
