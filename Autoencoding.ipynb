{
 "cells": [
  {
   "cell_type": "code",
   "execution_count": 1,
   "id": "efe72657",
   "metadata": {},
   "outputs": [],
   "source": [
    "import pandas as pd\n",
    "import numpy as np\n",
    "\n",
    "import tensorflow as tf\n",
    "\n",
    "from sklearn.metrics import accuracy_score, precision_score, recall_score\n",
    "from sklearn.model_selection import train_test_split\n",
    "from tensorflow.keras import layers, losses\n",
    "from tensorflow.keras.models import Model"
   ]
  },
  {
   "cell_type": "code",
   "execution_count": 2,
   "id": "a3792ad8",
   "metadata": {},
   "outputs": [],
   "source": [
    "pd.set_option(\"display.max_rows\", None,\n",
    "             \"display.max_columns\", None)"
   ]
  },
  {
   "cell_type": "code",
   "execution_count": 3,
   "id": "9e1c7b25",
   "metadata": {},
   "outputs": [],
   "source": [
    "dataset = pd.read_csv(\"/Users/ecemdenizbabaoglan/yap470-proje/new_df_kucuk_v3.csv\")"
   ]
  },
  {
   "cell_type": "code",
   "execution_count": 4,
   "id": "ed053fb4",
   "metadata": {},
   "outputs": [],
   "source": [
    "labels = dataset['Label']\n",
    "data = dataset.loc[:, dataset.columns != 'Label']"
   ]
  },
  {
   "cell_type": "code",
   "execution_count": 5,
   "id": "880853af",
   "metadata": {},
   "outputs": [
    {
     "data": {
      "text/plain": [
       "Benign                    837030\n",
       "DDOS attack-HOIC           97811\n",
       "Bot                        41017\n",
       "FTP-BruteForce             27814\n",
       "SSH-Bruteforce             27123\n",
       "DDoS attacks-LOIC-HTTP     11123\n",
       "DoS attacks-GoldenEye       6104\n",
       "DoS attacks-Slowloris       1555\n",
       "DDOS attack-LOIC-UDP         259\n",
       "Brute Force -Web             104\n",
       "Brute Force -XSS              42\n",
       "SQL Injection                 18\n",
       "Name: Label, dtype: int64"
      ]
     },
     "execution_count": 5,
     "metadata": {},
     "output_type": "execute_result"
    }
   ],
   "source": [
    "labels.value_counts()"
   ]
  },
  {
   "cell_type": "code",
   "execution_count": 6,
   "id": "49b8d8d1",
   "metadata": {},
   "outputs": [
    {
     "data": {
      "text/plain": [
       "(837030,)"
      ]
     },
     "execution_count": 6,
     "metadata": {},
     "output_type": "execute_result"
    }
   ],
   "source": [
    "labels.loc[labels == 'Benign'].shape"
   ]
  },
  {
   "cell_type": "code",
   "execution_count": 7,
   "id": "c07527d3",
   "metadata": {},
   "outputs": [],
   "source": [
    "x_train, x_test, y_train, y_test = train_test_split(dataset, labels, test_size = 0.2, random_state = 12345, stratify = labels)"
   ]
  },
  {
   "cell_type": "code",
   "execution_count": 8,
   "id": "22375e3e",
   "metadata": {},
   "outputs": [
    {
     "data": {
      "text/plain": [
       "Benign                    669624\n",
       "DDOS attack-HOIC           78249\n",
       "Bot                        32814\n",
       "FTP-BruteForce             22251\n",
       "SSH-Bruteforce             21699\n",
       "DDoS attacks-LOIC-HTTP      8898\n",
       "DoS attacks-GoldenEye       4883\n",
       "DoS attacks-Slowloris       1244\n",
       "DDOS attack-LOIC-UDP         207\n",
       "Brute Force -Web              83\n",
       "Brute Force -XSS              34\n",
       "SQL Injection                 14\n",
       "Name: Label, dtype: int64"
      ]
     },
     "execution_count": 8,
     "metadata": {},
     "output_type": "execute_result"
    }
   ],
   "source": [
    "y_train.value_counts()"
   ]
  },
  {
   "cell_type": "code",
   "execution_count": 9,
   "id": "9f5498e8",
   "metadata": {},
   "outputs": [],
   "source": [
    "benign_train_data = x_train.loc[y_train == 'Benign']\n",
    "attack_train_data = x_train.loc[y_train != 'Benign']\n",
    "benign_test_data = x_test.loc[y_test == 'Benign']\n",
    "attack_test_data = x_test.loc[y_test != 'Benign']"
   ]
  },
  {
   "cell_type": "code",
   "execution_count": 10,
   "id": "06626c4c",
   "metadata": {},
   "outputs": [
    {
     "data": {
      "text/plain": [
       "(170376, 82)"
      ]
     },
     "execution_count": 10,
     "metadata": {},
     "output_type": "execute_result"
    }
   ],
   "source": [
    "attack_train_data.shape"
   ]
  },
  {
   "cell_type": "code",
   "execution_count": 11,
   "id": "c111f563",
   "metadata": {},
   "outputs": [],
   "source": [
    "y_train.loc[y_train != 'Benign'] = 1\n",
    "y_train.loc[y_train == 'Benign'] = 2\n",
    "y_test.loc[y_test != 'Benign'] = 1\n",
    "y_test.loc[y_test == 'Benign'] = 2"
   ]
  },
  {
   "cell_type": "code",
   "execution_count": 12,
   "id": "dd7faddf",
   "metadata": {},
   "outputs": [
    {
     "ename": "ValueError",
     "evalue": "could not convert string to float: '15/02/2018 04:03:36'",
     "output_type": "error",
     "traceback": [
      "\u001b[0;31m---------------------------------------------------------------------------\u001b[0m",
      "\u001b[0;31mValueError\u001b[0m                                Traceback (most recent call last)",
      "Cell \u001b[0;32mIn [12], line 1\u001b[0m\n\u001b[0;32m----> 1\u001b[0m x_train \u001b[38;5;241m=\u001b[39m \u001b[43mnp\u001b[49m\u001b[38;5;241;43m.\u001b[39;49m\u001b[43masarray\u001b[49m\u001b[43m(\u001b[49m\u001b[43mx_train\u001b[49m\u001b[43m)\u001b[49m\u001b[38;5;241;43m.\u001b[39;49m\u001b[43mastype\u001b[49m\u001b[43m(\u001b[49m\u001b[43mnp\u001b[49m\u001b[38;5;241;43m.\u001b[39;49m\u001b[43mfloat32\u001b[49m\u001b[43m)\u001b[49m\n\u001b[1;32m      2\u001b[0m x_test \u001b[38;5;241m=\u001b[39m np\u001b[38;5;241m.\u001b[39masarray(x_test)\u001b[38;5;241m.\u001b[39mastype(np\u001b[38;5;241m.\u001b[39mfloat32)\n\u001b[1;32m      4\u001b[0m x_train \u001b[38;5;241m=\u001b[39m tf\u001b[38;5;241m.\u001b[39mcast(x_train, tf\u001b[38;5;241m.\u001b[39mfloat32)\n",
      "\u001b[0;31mValueError\u001b[0m: could not convert string to float: '15/02/2018 04:03:36'"
     ]
    }
   ],
   "source": [
    "x_train = np.asarray(x_train).astype(np.float32)\n",
    "x_test = np.asarray(x_test).astype(np.float32)\n",
    "\n",
    "x_train = tf.cast(x_train, tf.float32)\n",
    "x_test = tf.cast(x_test, tf.float32)"
   ]
  },
  {
   "cell_type": "code",
   "execution_count": null,
   "id": "4b5e6094",
   "metadata": {},
   "outputs": [],
   "source": [
    "benign_train_data.shape"
   ]
  },
  {
   "cell_type": "code",
   "execution_count": null,
   "id": "efca710a",
   "metadata": {},
   "outputs": [],
   "source": [
    "class AnomalyDetector(Model):\n",
    "  def __init__(self):\n",
    "    super(AnomalyDetector, self).__init__()\n",
    "    self.encoder = tf.keras.Sequential([\n",
    "      layers.Dense(32, activation=\"relu\"),\n",
    "      layers.Dense(16, activation=\"relu\"),\n",
    "      layers.Dense(8, activation=\"relu\")])\n",
    "\n",
    "    self.decoder = tf.keras.Sequential([\n",
    "      layers.Dense(16, activation=\"relu\"),\n",
    "      layers.Dense(32, activation=\"relu\"),\n",
    "      layers.Dense(140, activation=\"sigmoid\")])\n",
    "\n",
    "  def call(self, x):\n",
    "    encoded = self.encoder(x)\n",
    "    decoded = self.decoder(encoded)\n",
    "    return decoded\n",
    "\n",
    "autoencoder = AnomalyDetector()"
   ]
  },
  {
   "cell_type": "code",
   "execution_count": null,
   "id": "6d1deacb",
   "metadata": {},
   "outputs": [],
   "source": [
    "autoencoder.compile(optimizer='adam', loss='mae')"
   ]
  },
  {
   "cell_type": "code",
   "execution_count": null,
   "id": "c720513c",
   "metadata": {},
   "outputs": [],
   "source": [
    "history = autoencoder.fit(benign_train_data, benign_test_data, \n",
    "          epochs=20, \n",
    "          batch_size=512,\n",
    "          validation_data=(x_test, x_test),\n",
    "          shuffle=True)"
   ]
  },
  {
   "cell_type": "code",
   "execution_count": null,
   "id": "76675ee5",
   "metadata": {},
   "outputs": [],
   "source": []
  }
 ],
 "metadata": {
  "kernelspec": {
   "display_name": "pytf",
   "language": "python",
   "name": "pytf"
  },
  "language_info": {
   "codemirror_mode": {
    "name": "ipython",
    "version": 3
   },
   "file_extension": ".py",
   "mimetype": "text/x-python",
   "name": "python",
   "nbconvert_exporter": "python",
   "pygments_lexer": "ipython3",
   "version": "3.8.13"
  }
 },
 "nbformat": 4,
 "nbformat_minor": 5
}
