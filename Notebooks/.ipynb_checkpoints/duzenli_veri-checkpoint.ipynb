{
 "cells": [
  {
   "cell_type": "code",
   "execution_count": 1,
   "id": "8cb2d319-1b4e-404d-a1fb-0d122c7eac05",
   "metadata": {},
   "outputs": [],
   "source": [
    "import pandas as pd\n",
    "import numpy as np\n",
    "\n",
    "import tensorflow as tf\n",
    "from tensorflow.keras import layers, losses\n",
    "from tensorflow.keras.models import Model, load_model\n",
    "from tensorflow.keras.layers import Input, Dense\n",
    "from tensorflow.keras.callbacks import ModelCheckpoint, TensorBoard\n",
    "from tensorflow.keras import regularizers, Sequential\n",
    "\n",
    "from sklearn.metrics import accuracy_score, precision_score, recall_score\n",
    "from sklearn.model_selection import train_test_split\n",
    "from sklearn import preprocessing\n",
    "from sklearn.preprocessing import StandardScaler\n",
    "from sklearn.preprocessing import MinMaxScaler\n",
    "from sklearn.metrics import classification_report, accuracy_score\n",
    "\n",
    "import matplotlib.pyplot as plt\n",
    "from matplotlib import gridspec\n",
    "\n",
    "from scipy import stats\n",
    "\n",
    "import seaborn as sns\n",
    "\n",
    "%matplotlib inline\n",
    "sns.set(style='whitegrid', palette='muted', font_scale=1.5)\n",
    "pd.set_option(\"display.max_rows\", None,\n",
    "             \"display.max_columns\", None)"
   ]
  },
  {
   "cell_type": "code",
   "execution_count": 2,
   "id": "c52579ad-5bcb-40de-8889-f956781b352f",
   "metadata": {},
   "outputs": [],
   "source": [
    "def drop_infs(ds):\n",
    "    ds.replace([np.inf, -np.inf], np.nan, inplace=True)\n",
    "    ds.dropna(how='any', inplace=True)\n",
    "    return ds\n",
    "\n",
    "def labelencoder(ds):\n",
    "    encoded_ds=ds.copy()\n",
    "    le = preprocessing.LabelEncoder()\n",
    "    for col in encoded_ds.select_dtypes(include=['object']).columns:\n",
    "        encoded_ds[col]=le.fit_transform(encoded_ds[col])\n",
    "    \n",
    "    return encoded_ds"
   ]
  },
  {
   "cell_type": "code",
   "execution_count": 3,
   "id": "09e3a1f8-6fc4-4825-9926-121c9f02f2b2",
   "metadata": {},
   "outputs": [],
   "source": [
    "PATH=\"/Users/ecemdenizbabaoglan/Desktop/TOBBETU/yap470/test_dataset_hepsi.csv\""
   ]
  },
  {
   "cell_type": "code",
   "execution_count": 4,
   "id": "de12682a-88a5-42a0-806b-b863fd265991",
   "metadata": {},
   "outputs": [],
   "source": [
    "ds=pd.read_csv(PATH)"
   ]
  },
  {
   "cell_type": "code",
   "execution_count": 5,
   "id": "cab943a2-f4fd-4b1c-bcd0-991ed07e5f72",
   "metadata": {},
   "outputs": [
    {
     "data": {
      "text/plain": [
       "(2830743, 79)"
      ]
     },
     "execution_count": 5,
     "metadata": {},
     "output_type": "execute_result"
    }
   ],
   "source": [
    "ds.shape"
   ]
  },
  {
   "cell_type": "code",
   "execution_count": 6,
   "id": "7bcbb46c-20f4-4222-bd00-b56b92a444b4",
   "metadata": {},
   "outputs": [],
   "source": [
    "ds=drop_infs(ds)"
   ]
  },
  {
   "cell_type": "code",
   "execution_count": 7,
   "id": "78e272d5-5232-4714-964a-eedd71ad4e55",
   "metadata": {},
   "outputs": [],
   "source": [
    "ds.loc[ds[' Label'] == 'BENIGN', ' Label'] = 0\n",
    "normal=ds.loc[ds[' Label'] == 0, :]"
   ]
  },
  {
   "cell_type": "code",
   "execution_count": 8,
   "id": "137816d4-5866-46e5-896e-108609092759",
   "metadata": {},
   "outputs": [],
   "source": [
    "normal_y=normal[' Label'].copy()\n",
    "normal_x=normal.drop(' Label', axis=1)"
   ]
  },
  {
   "cell_type": "code",
   "execution_count": 9,
   "id": "e5fb4ce6-9c8f-45f0-9865-6d263fa6b475",
   "metadata": {},
   "outputs": [],
   "source": [
    "ds.loc[ds[' Label'] != 0, ' Label'] = 1\n",
    "anomaly=ds.loc[ds[' Label'] == 'BENIGN', :] "
   ]
  },
  {
   "cell_type": "code",
   "execution_count": 10,
   "id": "b016241e-4075-4b46-855a-47e3eb1d76a7",
   "metadata": {},
   "outputs": [],
   "source": [
    "anomaly_y=anomaly[' Label'].copy()\n",
    "anomaly_x=anomaly.drop(' Label', axis=1)"
   ]
  },
  {
   "cell_type": "code",
   "execution_count": 11,
   "id": "41b1303f-0eb4-4af7-bcd2-354f9280f81c",
   "metadata": {},
   "outputs": [],
   "source": [
    "normal_x_train, normal_x_test, normal_y_train, normal_y_test = train_test_split(normal_x, normal_y, \n",
    "                                                                                test_size=0.20)"
   ]
  },
  {
   "cell_type": "code",
   "execution_count": 12,
   "id": "76d00b99-6d95-4403-a31c-cbc6cc8c6165",
   "metadata": {},
   "outputs": [],
   "source": [
    "normal_x_train=labelencoder(normal_x_train)\n",
    "\n",
    "scaler=preprocessing.StandardScaler()\n",
    "normal_x_train=scaler.fit_transform(normal_x_train)"
   ]
  },
  {
   "cell_type": "code",
   "execution_count": 13,
   "id": "9d318dbf-4606-4e00-8d64-9eebda05e83e",
   "metadata": {},
   "outputs": [],
   "source": [
    "normal_x_train = np.asarray(normal_x_train).astype(np.float32)\n",
    "normal_x_train = tf.cast(normal_x_train, tf.float32)"
   ]
  },
  {
   "cell_type": "code",
   "execution_count": 14,
   "id": "a5f117a7-bc28-4525-a0a3-0aa2b19041cc",
   "metadata": {},
   "outputs": [],
   "source": [
    "test_x=pd.concat([normal_x_test, anomaly_x])\n",
    "test_x=labelencoder(test_x)\n",
    "\n",
    "scaler=preprocessing.StandardScaler()\n",
    "test_x=scaler.fit_transform(test_x)"
   ]
  },
  {
   "cell_type": "code",
   "execution_count": 15,
   "id": "a5d19a2c-2880-4187-b6ff-d099e22a5c95",
   "metadata": {},
   "outputs": [],
   "source": [
    "test_y=pd.concat([normal_y_test, anomaly_y])"
   ]
  },
  {
   "cell_type": "code",
   "execution_count": 16,
   "id": "5b78d59a-149c-402d-a033-7e16205c4ac6",
   "metadata": {},
   "outputs": [],
   "source": [
    "test_x = np.asarray(test_x).astype(np.float32)\n",
    "test_x = tf.cast(test_x, tf.float32)"
   ]
  },
  {
   "cell_type": "code",
   "execution_count": 17,
   "id": "713e2b49-55ba-4dca-8657-923f6f3fe301",
   "metadata": {},
   "outputs": [],
   "source": [
    "input = tf.keras.layers.Input(shape=(78,))"
   ]
  },
  {
   "cell_type": "code",
   "execution_count": 18,
   "id": "fb8eb5ae-9a24-47ad-a088-b63861f8279f",
   "metadata": {},
   "outputs": [],
   "source": [
    "encoder = tf.keras.Sequential([\n",
    "    layers.Dense(32, activation='relu'),\n",
    "    layers.Dense(16, activation='relu'),\n",
    "    layers.Dense(8, activation='relu')])(input)"
   ]
  },
  {
   "cell_type": "code",
   "execution_count": 19,
   "id": "636026da-7ee9-417f-8364-44e252a82386",
   "metadata": {},
   "outputs": [],
   "source": [
    "decoder = tf.keras.Sequential([\n",
    "    layers.Dense(16, activation='relu'),\n",
    "    layers.Dense(32, activation='relu'),\n",
    "    layers.Dense(78, activation='sigmoid')])(encoder)"
   ]
  },
  {
   "cell_type": "code",
   "execution_count": 20,
   "id": "b6cb9d5d-230c-4043-b998-69ad48246f8b",
   "metadata": {},
   "outputs": [],
   "source": [
    "autoencoder = tf.keras.Model(inputs=input, outputs=decoder)"
   ]
  },
  {
   "cell_type": "code",
   "execution_count": 21,
   "id": "0b64bb87-008e-4e89-897b-e06e0c31e64f",
   "metadata": {},
   "outputs": [],
   "source": [
    "autoencoder.compile(optimizer='adam', loss=tf.keras.losses.MeanSquaredError())"
   ]
  },
  {
   "cell_type": "code",
   "execution_count": 22,
   "id": "492c36c7-8e81-4355-8fe3-769c6c1885e7",
   "metadata": {},
   "outputs": [
    {
     "name": "stderr",
     "output_type": "stream",
     "text": [
      "2022-12-16 23:30:43.953883: I tensorflow/compiler/mlir/mlir_graph_optimization_pass.cc:116] None of the MLIR optimization passes are enabled (registered 2)\n",
      "2022-12-16 23:30:43.954127: W tensorflow/core/platform/profile_utils/cpu_utils.cc:126] Failed to get CPU frequency: 0 Hz\n"
     ]
    },
    {
     "name": "stdout",
     "output_type": "stream",
     "text": [
      "Epoch 1/15\n",
      "25553/25553 [==============================] - 12s 477us/step - loss: 0.6820 - val_loss: 0.6603s -  - ETA: 0s - l\n",
      "Epoch 2/15\n",
      "25553/25553 [==============================] - 12s 466us/step - loss: 0.6542 - val_loss: 0.6591\n",
      "Epoch 3/15\n",
      "25553/25553 [==============================] - 12s 468us/step - loss: 0.7164 - val_loss: 0.6587\n",
      "Epoch 4/15\n",
      "25553/25553 [==============================] - 12s 469us/step - loss: 0.6197 - val_loss: 0.6580\n",
      "Epoch 5/15\n",
      "25553/25553 [==============================] - 12s 468us/step - loss: 0.6337 - val_loss: 0.6578\n",
      "Epoch 6/15\n",
      "25553/25553 [==============================] - 12s 467us/step - loss: 0.7116 - val_loss: 0.6576\n",
      "Epoch 7/15\n",
      "25553/25553 [==============================] - 12s 466us/step - loss: 0.6686 - val_loss: 0.6575\n",
      "Epoch 8/15\n",
      "25553/25553 [==============================] - 12s 466us/step - loss: 0.6503 - val_loss: 0.6574\n",
      "Epoch 9/15\n",
      "25553/25553 [==============================] - 12s 465us/step - loss: 0.7679 - val_loss: 0.6573\n",
      "Epoch 10/15\n",
      "25553/25553 [==============================] - 12s 466us/step - loss: 0.7259 - val_loss: 0.6575\n",
      "Epoch 11/15\n",
      "25553/25553 [==============================] - 12s 468us/step - loss: 0.6715 - val_loss: 0.6570\n",
      "Epoch 12/15\n",
      "25553/25553 [==============================] - 12s 466us/step - loss: 0.6658 - val_loss: 0.6570\n",
      "Epoch 13/15\n",
      "25553/25553 [==============================] - 12s 471us/step - loss: 0.7039 - val_loss: 0.6570\n",
      "Epoch 14/15\n",
      "25553/25553 [==============================] - 12s 466us/step - loss: 0.6394 - val_loss: 0.6570\n",
      "Epoch 15/15\n",
      "25553/25553 [==============================] - 12s 468us/step - loss: 0.6660 - val_loss: 0.6570\n"
     ]
    }
   ],
   "source": [
    "history = autoencoder.fit(normal_x_train, normal_x_train, \n",
    "          epochs=11,\n",
    "          batch_size=64,\n",
    "          validation_split=0.1,\n",
    "          shuffle=True)"
   ]
  },
  {
   "cell_type": "code",
   "execution_count": 23,
   "id": "9241fed6-bc17-41e1-abd7-ee3b5e0c2ca6",
   "metadata": {},
   "outputs": [],
   "source": [
    "reconstructions = autoencoder.predict(normal_x_train)\n",
    "train_loss = tf.keras.losses.mae(reconstructions, normal_x_train)"
   ]
  },
  {
   "cell_type": "code",
   "execution_count": 24,
   "id": "eaed7114-d12d-4f66-a7d3-7d217f11e70a",
   "metadata": {},
   "outputs": [
    {
     "name": "stdout",
     "output_type": "stream",
     "text": [
      "Threshold:  0.47152823\n"
     ]
    }
   ],
   "source": [
    "threshold = np.mean(train_loss) + np.std(train_loss)\n",
    "print(\"Threshold: \", threshold)"
   ]
  },
  {
   "cell_type": "code",
   "execution_count": 25,
   "id": "7483039e-92e7-4acb-bfdc-2e720865878a",
   "metadata": {},
   "outputs": [],
   "source": [
    "def predict(model, data, threshold):\n",
    "  reconstructions = model(data)\n",
    "  loss = tf.keras.losses.mae(reconstructions, data)\n",
    "  return tf.math.less(loss, threshold)\n",
    "\n",
    "def print_stats(predictions, labels):\n",
    "  print(\"Accuracy = {}\".format(accuracy_score(labels, predictions)))\n",
    "  print(\"Precision = {}\".format(precision_score(labels, predictions)))\n",
    "  print(\"Recall = {}\".format(recall_score(labels, predictions)))"
   ]
  },
  {
   "cell_type": "code",
   "execution_count": 26,
   "id": "2986e610-acee-4c36-ac38-00cae625baec",
   "metadata": {},
   "outputs": [
    {
     "name": "stdout",
     "output_type": "stream",
     "text": [
      "Accuracy = 0.06730227356779318\n",
      "Precision = 0.0\n",
      "Recall = 0.0\n"
     ]
    },
    {
     "name": "stderr",
     "output_type": "stream",
     "text": [
      "/Users/ecemdenizbabaoglan/opt/anaconda3/envs/pytf/lib/python3.8/site-packages/sklearn/metrics/_classification.py:1334: UndefinedMetricWarning: Recall is ill-defined and being set to 0.0 due to no true samples. Use `zero_division` parameter to control this behavior.\n",
      "  _warn_prf(average, modifier, msg_start, len(result))\n"
     ]
    }
   ],
   "source": [
    "preds = predict(autoencoder, test_x , threshold)\n",
    "print_stats(preds, test_y.astype(bool))"
   ]
  },
  {
   "cell_type": "code",
   "execution_count": null,
   "id": "ab71f321-6f6d-4d00-a25f-01ae94c8e4d0",
   "metadata": {},
   "outputs": [],
   "source": []
  }
 ],
 "metadata": {
  "kernelspec": {
   "display_name": "tf2",
   "language": "python",
   "name": "tf2"
  },
  "language_info": {
   "codemirror_mode": {
    "name": "ipython",
    "version": 3
   },
   "file_extension": ".py",
   "mimetype": "text/x-python",
   "name": "python",
   "nbconvert_exporter": "python",
   "pygments_lexer": "ipython3",
   "version": "3.9.13"
  }
 },
 "nbformat": 4,
 "nbformat_minor": 5
}
